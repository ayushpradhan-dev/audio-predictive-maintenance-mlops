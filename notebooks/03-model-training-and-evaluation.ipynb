{
 "cells": [
  {
   "cell_type": "code",
   "execution_count": 1,
   "id": "218e3147",
   "metadata": {},
   "outputs": [],
   "source": [
    "import torch\n",
    "from torchvision import datasets, transforms\n",
    "from torch.utils.data import DataLoader, Subset\n",
    "from sklearn.model_selection import train_test_split\n",
    "import numpy as np"
   ]
  },
  {
   "cell_type": "code",
   "execution_count": 2,
   "id": "5adec2c8",
   "metadata": {},
   "outputs": [],
   "source": [
    "# Define configurations for key parameters and path to root of spectrogram images\n",
    "DATA_DIR = '../data/processed/fan'\n",
    "# ResNet50 trained on 224x224 images\n",
    "IMAGE_SIZE = (224, 224)\n",
    "BATCH_SIZE = 32\n",
    "VALIDATION_SPLIT = 0.2\n",
    "RANDOM_SEED = 42"
   ]
  },
  {
   "cell_type": "code",
   "execution_count": 3,
   "id": "046864ff",
   "metadata": {},
   "outputs": [],
   "source": [
    "# Define the image transformations (preprocessing) to meet ResNet50 input requirements\n",
    "data_transforms = transforms.Compose([\n",
    "    # Resize images to size expected by ResNet50\n",
    "    transforms.Resize(IMAGE_SIZE),\n",
    "    # Convert the image to a PyTorch Tensor, moves the color channel\n",
    "    # from the last dimension to the first dimension (H x W x C -> C x H x W).\n",
    "    transforms.ToTensor(),\n",
    "    # Normalize tensor values. The values for mean and std are the standard\n",
    "    # ones for models pre-trained on the ImageNet dataset.\n",
    "    transforms.Normalize(mean=[0.485, 0.456, 0.406], std=[0.229, 0.224, 0.225])\n",
    "])"
   ]
  },
  {
   "cell_type": "code",
   "execution_count": 4,
   "id": "01b6cc2a",
   "metadata": {},
   "outputs": [
    {
     "name": "stdout",
     "output_type": "stream",
     "text": [
      "Classes found: ['abnormal', 'normal']\n",
      "Class to index mapping: {'abnormal': 0, 'normal': 1}\n"
     ]
    }
   ],
   "source": [
    "# Create initial dataset with ImageFolder\n",
    "# ImageFolder automatically finds classes based on folder names ('abnormal', 'normal')\n",
    "# and applies the transformations we defined above.\n",
    "full_dataset = datasets.ImageFolder(DATA_DIR, transform=data_transforms)\n",
    "\n",
    "# Print out the classes found and their corresponding indicies\n",
    "print(f\"Classes found: {full_dataset.classes}\")\n",
    "# e.g., {'abnormal': 0, 'normal': 1}\n",
    "print(f\"Class to index mapping: {full_dataset.class_to_idx}\")"
   ]
  },
  {
   "cell_type": "code",
   "execution_count": 5,
   "id": "03a08321",
   "metadata": {},
   "outputs": [
    {
     "name": "stdout",
     "output_type": "stream",
     "text": [
      "Total images: 1440\n",
      "Number of training images: 1152\n",
      "Number of validation images: 288\n"
     ]
    }
   ],
   "source": [
    "# Create Stratified Train/Validation Split\n",
    "# Split the data while maintaining the same percentage of samples\n",
    "# for each class in both training and validation sets.\n",
    "\n",
    "# Get the labels from the full dataset\n",
    "labels = full_dataset.targets\n",
    "# Create list of indices from 0 to N-1, where N is the number of images\n",
    "indices = list(range(len(labels)))\n",
    "\n",
    "# Get stratified indices, test_size defines proportion for validation set\n",
    "# stratify=labels ensures the split is proportional to the class labels\n",
    "train_indices, val_indices = train_test_split(\n",
    "    indices, test_size=VALIDATION_SPLIT, stratify=labels, random_state=RANDOM_SEED\n",
    ")\n",
    "\n",
    "# Create PyTorch subset objects using genereated indices\n",
    "train_dataset = Subset(full_dataset, train_indices)\n",
    "validation_dataset = Subset(full_dataset, val_indices)\n",
    "\n",
    "print(f\"Total images: {len(full_dataset)}\")\n",
    "print(f\"Number of training images: {len(train_dataset)}\")\n",
    "print(f\"Number of validation images: {len(validation_dataset)}\")"
   ]
  },
  {
   "cell_type": "code",
   "execution_count": 6,
   "id": "5d7ef4a6",
   "metadata": {},
   "outputs": [],
   "source": [
    "# DataLoaders wrap the datasets and provide an easy way to iterate over\n",
    "# data in batches, with options for shuffling and parallel data loading.\n",
    "\n",
    "# The training loader shuffles data to ensure the model doesn't learn the order of the data.\n",
    "train_loader = DataLoader(\n",
    "    dataset=train_dataset,\n",
    "    batch_size=BATCH_SIZE,\n",
    "    shuffle=True\n",
    ")\n",
    "\n",
    "# No need to shuffle the validation data\n",
    "validation_loader = DataLoader(\n",
    "    dataset=validation_dataset,\n",
    "    batch_size=BATCH_SIZE,\n",
    "    shuffle=False\n",
    ")"
   ]
  },
  {
   "cell_type": "code",
   "execution_count": 7,
   "id": "ab422786",
   "metadata": {},
   "outputs": [
    {
     "name": "stdout",
     "output_type": "stream",
     "text": [
      "\n",
      "Feature batch shape: torch.Size([32, 3, 224, 224])\n",
      "\n",
      "Labels batch shape: torch.Size([32])\n"
     ]
    }
   ],
   "source": [
    "# Verification step, check one batch to see model input\n",
    "train_features, train_labels = next(iter(train_loader))\n",
    "print(f\"\\nFeature batch shape: {train_features.size()}\")\n",
    "print(f\"\\nLabels batch shape: {train_labels.size()}\")"
   ]
  },
  {
   "cell_type": "code",
   "execution_count": 8,
   "id": "063f04e2",
   "metadata": {},
   "outputs": [
    {
     "name": "stdout",
     "output_type": "stream",
     "text": [
      "[INFO] Total images: 1440\n",
      "[INFO] Training images: 1152\n",
      "[INFO] Validation images: 288\n",
      "\n",
      "DataLoaders are ready.\n",
      "Classes: {'abnormal': 0, 'normal': 1}\n"
     ]
    }
   ],
   "source": [
    "import sys\n",
    "sys.path.append('../src')\n",
    "\n",
    "from data_setup import create_dataloaders\n",
    "\n",
    "# Define Configuration\n",
    "DATA_DIR = '../data/processed/fan'\n",
    "IMAGE_SIZE = (224, 224)\n",
    "BATCH_SIZE = 32\n",
    "\n",
    "# Create the dataloaders\n",
    "train_loader, validation_loader, class_to_idx = create_dataloaders(\n",
    "    data_dir=DATA_DIR,\n",
    "    image_size=IMAGE_SIZE,\n",
    "    batch_size=BATCH_SIZE,\n",
    "    validation_split=VALIDATION_SPLIT,\n",
    "    random_seed=RANDOM_SEED\n",
    ")\n",
    "\n",
    "print(\"\\nDataLoaders are ready.\")\n",
    "print(f\"Classes: {class_to_idx}\")"
   ]
  }
 ],
 "metadata": {
  "kernelspec": {
   "display_name": "audio-mlops",
   "language": "python",
   "name": "python3"
  },
  "language_info": {
   "codemirror_mode": {
    "name": "ipython",
    "version": 3
   },
   "file_extension": ".py",
   "mimetype": "text/x-python",
   "name": "python",
   "nbconvert_exporter": "python",
   "pygments_lexer": "ipython3",
   "version": "3.9.23"
  }
 },
 "nbformat": 4,
 "nbformat_minor": 5
}
