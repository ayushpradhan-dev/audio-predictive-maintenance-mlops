{
 "cells": [
  {
   "cell_type": "code",
   "execution_count": 2,
   "id": "521afc02",
   "metadata": {},
   "outputs": [],
   "source": [
    "import os\n",
    "import sys"
   ]
  },
  {
   "cell_type": "code",
   "execution_count": 3,
   "id": "04604115",
   "metadata": {},
   "outputs": [],
   "source": [
    "sys.path.append('../src')\n",
    "from data_loader import load_fan_data"
   ]
  },
  {
   "cell_type": "code",
   "execution_count": 4,
   "id": "fa9c0bb8",
   "metadata": {},
   "outputs": [
    {
     "data": {
      "application/vnd.microsoft.datawrangler.viewer.v0+json": {
       "columns": [
        {
         "name": "index",
         "rawType": "int64",
         "type": "integer"
        },
        {
         "name": "file_path",
         "rawType": "object",
         "type": "string"
        },
        {
         "name": "fan_id",
         "rawType": "object",
         "type": "string"
        },
        {
         "name": "label",
         "rawType": "object",
         "type": "string"
        }
       ],
       "ref": "274a8a09-362d-4b06-8520-fc7a7e3b3fef",
       "rows": [
        [
         "0",
         "..\\data\\fan\\id_00\\abnormal\\00000000.wav",
         "id_00",
         "abnormal"
        ],
        [
         "1",
         "..\\data\\fan\\id_00\\abnormal\\00000001.wav",
         "id_00",
         "abnormal"
        ],
        [
         "2",
         "..\\data\\fan\\id_00\\abnormal\\00000002.wav",
         "id_00",
         "abnormal"
        ],
        [
         "3",
         "..\\data\\fan\\id_00\\abnormal\\00000003.wav",
         "id_00",
         "abnormal"
        ],
        [
         "4",
         "..\\data\\fan\\id_00\\abnormal\\00000004.wav",
         "id_00",
         "abnormal"
        ]
       ],
       "shape": {
        "columns": 3,
        "rows": 5
       }
      },
      "text/html": [
       "<div>\n",
       "<style scoped>\n",
       "    .dataframe tbody tr th:only-of-type {\n",
       "        vertical-align: middle;\n",
       "    }\n",
       "\n",
       "    .dataframe tbody tr th {\n",
       "        vertical-align: top;\n",
       "    }\n",
       "\n",
       "    .dataframe thead th {\n",
       "        text-align: right;\n",
       "    }\n",
       "</style>\n",
       "<table border=\"1\" class=\"dataframe\">\n",
       "  <thead>\n",
       "    <tr style=\"text-align: right;\">\n",
       "      <th></th>\n",
       "      <th>file_path</th>\n",
       "      <th>fan_id</th>\n",
       "      <th>label</th>\n",
       "    </tr>\n",
       "  </thead>\n",
       "  <tbody>\n",
       "    <tr>\n",
       "      <th>0</th>\n",
       "      <td>..\\data\\fan\\id_00\\abnormal\\00000000.wav</td>\n",
       "      <td>id_00</td>\n",
       "      <td>abnormal</td>\n",
       "    </tr>\n",
       "    <tr>\n",
       "      <th>1</th>\n",
       "      <td>..\\data\\fan\\id_00\\abnormal\\00000001.wav</td>\n",
       "      <td>id_00</td>\n",
       "      <td>abnormal</td>\n",
       "    </tr>\n",
       "    <tr>\n",
       "      <th>2</th>\n",
       "      <td>..\\data\\fan\\id_00\\abnormal\\00000002.wav</td>\n",
       "      <td>id_00</td>\n",
       "      <td>abnormal</td>\n",
       "    </tr>\n",
       "    <tr>\n",
       "      <th>3</th>\n",
       "      <td>..\\data\\fan\\id_00\\abnormal\\00000003.wav</td>\n",
       "      <td>id_00</td>\n",
       "      <td>abnormal</td>\n",
       "    </tr>\n",
       "    <tr>\n",
       "      <th>4</th>\n",
       "      <td>..\\data\\fan\\id_00\\abnormal\\00000004.wav</td>\n",
       "      <td>id_00</td>\n",
       "      <td>abnormal</td>\n",
       "    </tr>\n",
       "  </tbody>\n",
       "</table>\n",
       "</div>"
      ],
      "text/plain": [
       "                                 file_path fan_id     label\n",
       "0  ..\\data\\fan\\id_00\\abnormal\\00000000.wav  id_00  abnormal\n",
       "1  ..\\data\\fan\\id_00\\abnormal\\00000001.wav  id_00  abnormal\n",
       "2  ..\\data\\fan\\id_00\\abnormal\\00000002.wav  id_00  abnormal\n",
       "3  ..\\data\\fan\\id_00\\abnormal\\00000003.wav  id_00  abnormal\n",
       "4  ..\\data\\fan\\id_00\\abnormal\\00000004.wav  id_00  abnormal"
      ]
     },
     "execution_count": 4,
     "metadata": {},
     "output_type": "execute_result"
    }
   ],
   "source": [
    "fan_df = load_fan_data(\"../data/fan\")\n",
    "fan_df.head()"
   ]
  },
  {
   "cell_type": "code",
   "execution_count": null,
   "id": "46f9b0c0",
   "metadata": {},
   "outputs": [],
   "source": []
  }
 ],
 "metadata": {
  "kernelspec": {
   "display_name": "audio-mlops",
   "language": "python",
   "name": "python3"
  },
  "language_info": {
   "codemirror_mode": {
    "name": "ipython",
    "version": 3
   },
   "file_extension": ".py",
   "mimetype": "text/x-python",
   "name": "python",
   "nbconvert_exporter": "python",
   "pygments_lexer": "ipython3",
   "version": "3.9.23"
  }
 },
 "nbformat": 4,
 "nbformat_minor": 5
}
