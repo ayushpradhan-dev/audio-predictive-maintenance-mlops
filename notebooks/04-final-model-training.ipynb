{
 "cells": [
  {
   "cell_type": "code",
   "execution_count": 1,
   "id": "c74d9afe",
   "metadata": {},
   "outputs": [
    {
     "name": "stderr",
     "output_type": "stream",
     "text": [
      "c:\\Users\\ayush\\miniconda3\\envs\\audio-mlops\\lib\\site-packages\\tqdm\\auto.py:21: TqdmWarning: IProgress not found. Please update jupyter and ipywidgets. See https://ipywidgets.readthedocs.io/en/stable/user_install.html\n",
      "  from .autonotebook import tqdm as notebook_tqdm\n"
     ]
    }
   ],
   "source": [
    "import sys\n",
    "import torch\n",
    "import pandas as pd\n",
    "from pathlib import Path\n",
    "\n",
    "# Add src folder to the Python path\n",
    "sys.path.append('../src')\n",
    "\n",
    "from model import SpectrogramResNet\n",
    "from data_setup import create_logo_dataloaders\n",
    "\n",
    "from train import train_step, val_step, EarlyStopping\n",
    "from torch.optim.lr_scheduler import ReduceLROnPlateau"
   ]
  },
  {
   "cell_type": "code",
   "execution_count": 2,
   "id": "f439dc18",
   "metadata": {},
   "outputs": [
    {
     "name": "stdout",
     "output_type": "stream",
     "text": [
      "[FINAL MODEL] Training images: 4995\n",
      "[FINAL MODEL] Validation images: 555\n",
      "\n",
      "DataLoaders with data augmentation are ready.\n"
     ]
    }
   ],
   "source": [
    "from torchvision import datasets, transforms\n",
    "from torch.utils.data import DataLoader, Subset\n",
    "from sklearn.model_selection import train_test_split\n",
    "import torchaudio.transforms as T\n",
    "\n",
    "# Configuration for the final model\n",
    "DATA_DIR = \"../data/processed/fan\"\n",
    "MODEL_PATH = \"../models/production_model.pth\"\n",
    "IMAGE_SIZE = (224, 224)\n",
    "BATCH_SIZE = 32\n",
    "VALIDATION_SPLIT = 0.1 # We only need a small validation set to monitor training\n",
    "RANDOM_SEED = 42\n",
    "\n",
    "# Define separate transforms for training and validation\n",
    "# Data augmentations are applied only to the training data.\n",
    "train_transforms = transforms.Compose([\n",
    "    transforms.Resize(IMAGE_SIZE),\n",
    "    transforms.ToTensor(),\n",
    "\n",
    "    # SpecAugment: Randomly mask out a vertical band (time), simulates audio dropouts.\n",
    "    T.TimeMasking(time_mask_param=80),\n",
    "\n",
    "    # SpecAugment: Randomly mask out a horizontal band (frequency), simulates noise.\n",
    "    T.FrequencyMasking(freq_mask_param=80),\n",
    "\n",
    "    # Normalization\n",
    "    transforms.Normalize(mean=[0.485, 0.456, 0.406], std=[0.229, 0.224, 0.225])\n",
    "])\n",
    "\n",
    "# Validation set is not augmented, gives a stable measure of model performance during training.\n",
    "validation_transforms = transforms.Compose([\n",
    "    transforms.Resize(IMAGE_SIZE),\n",
    "    transforms.ToTensor(),\n",
    "    transforms.Normalize(mean=[0.485, 0.456, 0.406], std=[0.229, 0.224, 0.225])\n",
    "])\n",
    "\n",
    "# Create two dataset instances, one for training and one for validation\n",
    "# Necessary because they have different transform pipelines\n",
    "train_full_dataset = datasets.ImageFolder(DATA_DIR, transform=train_transforms)\n",
    "val_full_dataset = datasets.ImageFolder(DATA_DIR, transform=validation_transforms)\n",
    "\n",
    "# Correct the labels for both datasets\n",
    "correct_class_to_idx = {'abnormal': 0, 'normal': 1}\n",
    "\n",
    "def correct_dataset_labels(dataset, class_map):\n",
    "    \"\"\"Helper function to correct labels in a PyTorch dataset.\"\"\"\n",
    "    corrected_samples = []\n",
    "    for path, _ in dataset.samples:\n",
    "        label = class_map['abnormal'] if 'abnormal' in path else class_map['normal']\n",
    "        corrected_samples.append((path, label))\n",
    "\n",
    "    dataset.samples = corrected_samples\n",
    "    dataset.targets = [s[1] for s in corrected_samples]\n",
    "    dataset.class_to_idx = class_map\n",
    "    return dataset\n",
    "\n",
    "train_full_dataset = correct_dataset_labels(train_full_dataset, correct_class_to_idx)\n",
    "val_full_dataset = correct_dataset_labels(val_full_dataset, correct_class_to_idx)\n",
    "\n",
    "\n",
    "# Create final stratified train/val split\n",
    "labels = train_full_dataset.targets\n",
    "indices = list(range(len(labels)))\n",
    "\n",
    "train_indices, val_indices = train_test_split(\n",
    "    indices, test_size=VALIDATION_SPLIT, stratify=labels, random_state=RANDOM_SEED\n",
    ")\n",
    "\n",
    "# Create Subsets using correct dataset object for each split\n",
    "train_dataset = Subset(train_full_dataset, train_indices) # Use augmented dataset for training\n",
    "validation_dataset = Subset(val_full_dataset, val_indices) # Validation set is not augmented\n",
    "\n",
    "print(f\"[FINAL MODEL] Training images: {len(train_dataset)}\")\n",
    "print(f\"[FINAL MODEL] Validation images: {len(validation_dataset)}\")\n",
    "\n",
    "# Create Final DataLoaders\n",
    "final_train_loader = DataLoader(train_dataset, batch_size=BATCH_SIZE, shuffle=True)\n",
    "final_val_loader = DataLoader(validation_dataset, batch_size=BATCH_SIZE, shuffle=False)\n",
    "\n",
    "print(f\"\\nDataLoaders with data augmentation are ready.\")"
   ]
  },
  {
   "cell_type": "code",
   "execution_count": null,
   "id": "f3a5b09b",
   "metadata": {},
   "outputs": [
    {
     "name": "stdout",
     "output_type": "stream",
     "text": [
      "--- Training final production model on device: cuda ---\n"
     ]
    },
    {
     "name": "stderr",
     "output_type": "stream",
     "text": [
      "c:\\Users\\ayush\\miniconda3\\envs\\audio-mlops\\lib\\site-packages\\torch\\optim\\lr_scheduler.py:62: UserWarning: The verbose parameter is deprecated. Please use get_last_lr() to access the learning rate.\n",
      "  warnings.warn(\n"
     ]
    },
    {
     "name": "stdout",
     "output_type": "stream",
     "text": [
      "[FINAL MODEL] Abnormal weight: 2.76\n"
     ]
    },
    {
     "name": "stderr",
     "output_type": "stream",
     "text": [
      "Training: 100%|██████████| 157/157 [02:02<00:00,  1.28it/s]\n",
      "Validation: 100%|██████████| 18/18 [00:12<00:00,  1.39it/s]\n"
     ]
    },
    {
     "name": "stdout",
     "output_type": "stream",
     "text": [
      "\n",
      "Epoch: 1 | Train Loss: 0.8390 | Val Loss: 0.8925 | Val F1: 0.8462\n",
      "Validation loss decreased (inf --> 0.892479). Saving model...\n"
     ]
    },
    {
     "name": "stderr",
     "output_type": "stream",
     "text": [
      "Training: 100%|██████████| 157/157 [00:41<00:00,  3.78it/s]\n",
      "Validation: 100%|██████████| 18/18 [00:04<00:00,  3.96it/s]\n"
     ]
    },
    {
     "name": "stdout",
     "output_type": "stream",
     "text": [
      "\n",
      "Epoch: 2 | Train Loss: 0.7728 | Val Loss: 0.7648 | Val F1: 0.8462\n",
      "Validation loss decreased (0.892479 --> 0.764760). Saving model...\n"
     ]
    },
    {
     "name": "stderr",
     "output_type": "stream",
     "text": [
      "Training: 100%|██████████| 157/157 [00:42<00:00,  3.68it/s]\n",
      "Validation: 100%|██████████| 18/18 [00:04<00:00,  4.06it/s]\n"
     ]
    },
    {
     "name": "stdout",
     "output_type": "stream",
     "text": [
      "\n",
      "Epoch: 3 | Train Loss: 0.7202 | Val Loss: 0.6940 | Val F1: 0.8462\n",
      "Validation loss decreased (0.764760 --> 0.693974). Saving model...\n"
     ]
    },
    {
     "name": "stderr",
     "output_type": "stream",
     "text": [
      "Training: 100%|██████████| 157/157 [00:42<00:00,  3.68it/s]\n",
      "Validation: 100%|██████████| 18/18 [00:04<00:00,  4.07it/s]\n"
     ]
    },
    {
     "name": "stdout",
     "output_type": "stream",
     "text": [
      "\n",
      "Epoch: 4 | Train Loss: 0.6954 | Val Loss: 0.6658 | Val F1: 0.8462\n",
      "Validation loss decreased (0.693974 --> 0.665804). Saving model...\n"
     ]
    },
    {
     "name": "stderr",
     "output_type": "stream",
     "text": [
      "Training: 100%|██████████| 157/157 [00:42<00:00,  3.69it/s]\n",
      "Validation: 100%|██████████| 18/18 [00:04<00:00,  4.07it/s]\n"
     ]
    },
    {
     "name": "stdout",
     "output_type": "stream",
     "text": [
      "\n",
      "Epoch: 5 | Train Loss: 0.6594 | Val Loss: 0.6405 | Val F1: 0.8462\n",
      "Validation loss decreased (0.665804 --> 0.640463). Saving model...\n"
     ]
    },
    {
     "name": "stderr",
     "output_type": "stream",
     "text": [
      "Training: 100%|██████████| 157/157 [00:42<00:00,  3.69it/s]\n",
      "Validation: 100%|██████████| 18/18 [00:04<00:00,  3.99it/s]\n"
     ]
    },
    {
     "name": "stdout",
     "output_type": "stream",
     "text": [
      "\n",
      "Epoch: 6 | Train Loss: 0.6496 | Val Loss: 0.6161 | Val F1: 0.8479\n",
      "Validation loss decreased (0.640463 --> 0.616087). Saving model...\n"
     ]
    },
    {
     "name": "stderr",
     "output_type": "stream",
     "text": [
      "Training: 100%|██████████| 157/157 [00:42<00:00,  3.69it/s]\n",
      "Validation: 100%|██████████| 18/18 [00:04<00:00,  4.06it/s]\n"
     ]
    },
    {
     "name": "stdout",
     "output_type": "stream",
     "text": [
      "\n",
      "Epoch: 7 | Train Loss: 0.6183 | Val Loss: 0.5935 | Val F1: 0.8497\n",
      "Validation loss decreased (0.616087 --> 0.593456). Saving model...\n"
     ]
    },
    {
     "name": "stderr",
     "output_type": "stream",
     "text": [
      "Training: 100%|██████████| 157/157 [00:42<00:00,  3.69it/s]\n",
      "Validation: 100%|██████████| 18/18 [00:04<00:00,  3.98it/s]\n"
     ]
    },
    {
     "name": "stdout",
     "output_type": "stream",
     "text": [
      "\n",
      "Epoch: 8 | Train Loss: 0.6104 | Val Loss: 0.5747 | Val F1: 0.8550\n",
      "Validation loss decreased (0.593456 --> 0.574703). Saving model...\n"
     ]
    },
    {
     "name": "stderr",
     "output_type": "stream",
     "text": [
      "Training: 100%|██████████| 157/157 [00:42<00:00,  3.69it/s]\n",
      "Validation: 100%|██████████| 18/18 [00:04<00:00,  4.02it/s]\n"
     ]
    },
    {
     "name": "stdout",
     "output_type": "stream",
     "text": [
      "\n",
      "Epoch: 9 | Train Loss: 0.5971 | Val Loss: 0.5406 | Val F1: 0.8605\n",
      "Validation loss decreased (0.574703 --> 0.540590). Saving model...\n"
     ]
    },
    {
     "name": "stderr",
     "output_type": "stream",
     "text": [
      "Training: 100%|██████████| 157/157 [00:42<00:00,  3.68it/s]\n",
      "Validation: 100%|██████████| 18/18 [00:04<00:00,  4.03it/s]\n"
     ]
    },
    {
     "name": "stdout",
     "output_type": "stream",
     "text": [
      "\n",
      "Epoch: 10 | Train Loss: 0.5893 | Val Loss: 0.5347 | Val F1: 0.8675\n",
      "Validation loss decreased (0.540590 --> 0.534669). Saving model...\n"
     ]
    },
    {
     "name": "stderr",
     "output_type": "stream",
     "text": [
      "Training: 100%|██████████| 157/157 [00:42<00:00,  3.69it/s]\n",
      "Validation: 100%|██████████| 18/18 [00:04<00:00,  4.08it/s]\n"
     ]
    },
    {
     "name": "stdout",
     "output_type": "stream",
     "text": [
      "\n",
      "Epoch: 11 | Train Loss: 0.5792 | Val Loss: 0.5193 | Val F1: 0.8666\n",
      "Validation loss decreased (0.534669 --> 0.519261). Saving model...\n"
     ]
    },
    {
     "name": "stderr",
     "output_type": "stream",
     "text": [
      "Training: 100%|██████████| 157/157 [00:41<00:00,  3.75it/s]\n",
      "Validation: 100%|██████████| 18/18 [00:04<00:00,  4.26it/s]\n"
     ]
    },
    {
     "name": "stdout",
     "output_type": "stream",
     "text": [
      "\n",
      "Epoch: 12 | Train Loss: 0.5769 | Val Loss: 0.5259 | Val F1: 0.8778\n",
      "EarlyStopping counter: 1 out of 15\n"
     ]
    },
    {
     "name": "stderr",
     "output_type": "stream",
     "text": [
      "Training: 100%|██████████| 157/157 [00:41<00:00,  3.83it/s]\n",
      "Validation: 100%|██████████| 18/18 [00:04<00:00,  4.18it/s]\n"
     ]
    },
    {
     "name": "stdout",
     "output_type": "stream",
     "text": [
      "\n",
      "Epoch: 13 | Train Loss: 0.5673 | Val Loss: 0.5182 | Val F1: 0.8797\n",
      "Validation loss decreased (0.519261 --> 0.518247). Saving model...\n"
     ]
    },
    {
     "name": "stderr",
     "output_type": "stream",
     "text": [
      "Training: 100%|██████████| 157/157 [00:40<00:00,  3.86it/s]\n",
      "Validation: 100%|██████████| 18/18 [00:04<00:00,  4.11it/s]\n"
     ]
    },
    {
     "name": "stdout",
     "output_type": "stream",
     "text": [
      "\n",
      "Epoch: 14 | Train Loss: 0.5759 | Val Loss: 0.4979 | Val F1: 0.8807\n",
      "Validation loss decreased (0.518247 --> 0.497869). Saving model...\n"
     ]
    },
    {
     "name": "stderr",
     "output_type": "stream",
     "text": [
      "Training: 100%|██████████| 157/157 [00:41<00:00,  3.78it/s]\n",
      "Validation: 100%|██████████| 18/18 [00:04<00:00,  3.98it/s]\n"
     ]
    },
    {
     "name": "stdout",
     "output_type": "stream",
     "text": [
      "\n",
      "Epoch: 15 | Train Loss: 0.5588 | Val Loss: 0.4781 | Val F1: 0.8833\n",
      "Validation loss decreased (0.497869 --> 0.478131). Saving model...\n"
     ]
    },
    {
     "name": "stderr",
     "output_type": "stream",
     "text": [
      "Training: 100%|██████████| 157/157 [00:42<00:00,  3.70it/s]\n",
      "Validation: 100%|██████████| 18/18 [00:04<00:00,  4.02it/s]\n"
     ]
    },
    {
     "name": "stdout",
     "output_type": "stream",
     "text": [
      "\n",
      "Epoch: 16 | Train Loss: 0.5247 | Val Loss: 0.4733 | Val F1: 0.8850\n",
      "Validation loss decreased (0.478131 --> 0.473335). Saving model...\n"
     ]
    },
    {
     "name": "stderr",
     "output_type": "stream",
     "text": [
      "Training: 100%|██████████| 157/157 [00:41<00:00,  3.79it/s]\n",
      "Validation: 100%|██████████| 18/18 [00:04<00:00,  4.24it/s]\n"
     ]
    },
    {
     "name": "stdout",
     "output_type": "stream",
     "text": [
      "\n",
      "Epoch: 17 | Train Loss: 0.5189 | Val Loss: 0.4732 | Val F1: 0.8857\n",
      "Validation loss decreased (0.473335 --> 0.473229). Saving model...\n"
     ]
    },
    {
     "name": "stderr",
     "output_type": "stream",
     "text": [
      "Training: 100%|██████████| 157/157 [00:40<00:00,  3.87it/s]\n",
      "Validation: 100%|██████████| 18/18 [00:04<00:00,  4.26it/s]\n"
     ]
    },
    {
     "name": "stdout",
     "output_type": "stream",
     "text": [
      "\n",
      "Epoch: 18 | Train Loss: 0.5415 | Val Loss: 0.4861 | Val F1: 0.8931\n",
      "EarlyStopping counter: 1 out of 15\n"
     ]
    },
    {
     "name": "stderr",
     "output_type": "stream",
     "text": [
      "Training: 100%|██████████| 157/157 [00:40<00:00,  3.88it/s]\n",
      "Validation: 100%|██████████| 18/18 [00:04<00:00,  4.26it/s]\n"
     ]
    },
    {
     "name": "stdout",
     "output_type": "stream",
     "text": [
      "\n",
      "Epoch: 19 | Train Loss: 0.5308 | Val Loss: 0.4853 | Val F1: 0.8921\n",
      "EarlyStopping counter: 2 out of 15\n"
     ]
    },
    {
     "name": "stderr",
     "output_type": "stream",
     "text": [
      "Training: 100%|██████████| 157/157 [00:40<00:00,  3.88it/s]\n",
      "Validation: 100%|██████████| 18/18 [00:04<00:00,  4.28it/s]\n"
     ]
    },
    {
     "name": "stdout",
     "output_type": "stream",
     "text": [
      "\n",
      "Epoch: 20 | Train Loss: 0.5379 | Val Loss: 0.4462 | Val F1: 0.8840\n",
      "Validation loss decreased (0.473229 --> 0.446244). Saving model...\n"
     ]
    },
    {
     "name": "stderr",
     "output_type": "stream",
     "text": [
      "Training: 100%|██████████| 157/157 [00:40<00:00,  3.86it/s]\n",
      "Validation: 100%|██████████| 18/18 [00:04<00:00,  4.26it/s]\n"
     ]
    },
    {
     "name": "stdout",
     "output_type": "stream",
     "text": [
      "\n",
      "Epoch: 21 | Train Loss: 0.5227 | Val Loss: 0.4625 | Val F1: 0.9000\n",
      "EarlyStopping counter: 1 out of 15\n"
     ]
    },
    {
     "name": "stderr",
     "output_type": "stream",
     "text": [
      "Training: 100%|██████████| 157/157 [00:40<00:00,  3.87it/s]\n",
      "Validation: 100%|██████████| 18/18 [00:04<00:00,  4.19it/s]\n"
     ]
    },
    {
     "name": "stdout",
     "output_type": "stream",
     "text": [
      "\n",
      "Epoch: 22 | Train Loss: 0.5256 | Val Loss: 0.4353 | Val F1: 0.8797\n",
      "Validation loss decreased (0.446244 --> 0.435348). Saving model...\n"
     ]
    },
    {
     "name": "stderr",
     "output_type": "stream",
     "text": [
      "Training: 100%|██████████| 157/157 [00:40<00:00,  3.87it/s]\n",
      "Validation: 100%|██████████| 18/18 [00:04<00:00,  4.24it/s]\n"
     ]
    },
    {
     "name": "stdout",
     "output_type": "stream",
     "text": [
      "\n",
      "Epoch: 23 | Train Loss: 0.4948 | Val Loss: 0.4431 | Val F1: 0.8950\n",
      "EarlyStopping counter: 1 out of 15\n"
     ]
    },
    {
     "name": "stderr",
     "output_type": "stream",
     "text": [
      "Training: 100%|██████████| 157/157 [00:40<00:00,  3.87it/s]\n",
      "Validation: 100%|██████████| 18/18 [00:04<00:00,  4.18it/s]\n"
     ]
    },
    {
     "name": "stdout",
     "output_type": "stream",
     "text": [
      "\n",
      "Epoch: 24 | Train Loss: 0.4871 | Val Loss: 0.4090 | Val F1: 0.9055\n",
      "Validation loss decreased (0.435348 --> 0.408990). Saving model...\n"
     ]
    },
    {
     "name": "stderr",
     "output_type": "stream",
     "text": [
      "Training: 100%|██████████| 157/157 [00:40<00:00,  3.87it/s]\n",
      "Validation: 100%|██████████| 18/18 [00:04<00:00,  4.17it/s]\n"
     ]
    },
    {
     "name": "stdout",
     "output_type": "stream",
     "text": [
      "\n",
      "Epoch: 25 | Train Loss: 0.5042 | Val Loss: 0.4201 | Val F1: 0.9012\n",
      "EarlyStopping counter: 1 out of 15\n"
     ]
    },
    {
     "name": "stderr",
     "output_type": "stream",
     "text": [
      "Training: 100%|██████████| 157/157 [00:40<00:00,  3.87it/s]\n",
      "Validation: 100%|██████████| 18/18 [00:04<00:00,  4.19it/s]\n"
     ]
    },
    {
     "name": "stdout",
     "output_type": "stream",
     "text": [
      "\n",
      "Epoch: 26 | Train Loss: 0.4852 | Val Loss: 0.4197 | Val F1: 0.9109\n",
      "EarlyStopping counter: 2 out of 15\n"
     ]
    },
    {
     "name": "stderr",
     "output_type": "stream",
     "text": [
      "Training: 100%|██████████| 157/157 [00:39<00:00,  3.93it/s]\n",
      "Validation: 100%|██████████| 18/18 [00:04<00:00,  4.22it/s]\n"
     ]
    },
    {
     "name": "stdout",
     "output_type": "stream",
     "text": [
      "\n",
      "Epoch: 27 | Train Loss: 0.4874 | Val Loss: 0.4352 | Val F1: 0.8972\n",
      "EarlyStopping counter: 3 out of 15\n"
     ]
    },
    {
     "name": "stderr",
     "output_type": "stream",
     "text": [
      "Training: 100%|██████████| 157/157 [00:42<00:00,  3.73it/s]\n",
      "Validation: 100%|██████████| 18/18 [00:04<00:00,  3.98it/s]\n"
     ]
    },
    {
     "name": "stdout",
     "output_type": "stream",
     "text": [
      "\n",
      "Epoch: 28 | Train Loss: 0.4994 | Val Loss: 0.4866 | Val F1: 0.9046\n",
      "EarlyStopping counter: 4 out of 15\n"
     ]
    },
    {
     "name": "stderr",
     "output_type": "stream",
     "text": [
      "Training: 100%|██████████| 157/157 [00:42<00:00,  3.74it/s]\n",
      "Validation: 100%|██████████| 18/18 [00:04<00:00,  4.15it/s]\n"
     ]
    },
    {
     "name": "stdout",
     "output_type": "stream",
     "text": [
      "\n",
      "Epoch: 29 | Train Loss: 0.4862 | Val Loss: 0.4409 | Val F1: 0.9038\n",
      "EarlyStopping counter: 5 out of 15\n"
     ]
    },
    {
     "name": "stderr",
     "output_type": "stream",
     "text": [
      "Training: 100%|██████████| 157/157 [00:40<00:00,  3.87it/s]\n",
      "Validation: 100%|██████████| 18/18 [00:04<00:00,  4.18it/s]\n"
     ]
    },
    {
     "name": "stdout",
     "output_type": "stream",
     "text": [
      "\n",
      "Epoch: 30 | Train Loss: 0.4752 | Val Loss: 0.3892 | Val F1: 0.9042\n",
      "Validation loss decreased (0.408990 --> 0.389230). Saving model...\n"
     ]
    },
    {
     "name": "stderr",
     "output_type": "stream",
     "text": [
      "Training: 100%|██████████| 157/157 [00:40<00:00,  3.87it/s]\n",
      "Validation: 100%|██████████| 18/18 [00:04<00:00,  4.16it/s]\n"
     ]
    },
    {
     "name": "stdout",
     "output_type": "stream",
     "text": [
      "\n",
      "Epoch: 31 | Train Loss: 0.4704 | Val Loss: 0.4154 | Val F1: 0.8884\n",
      "EarlyStopping counter: 1 out of 15\n"
     ]
    },
    {
     "name": "stderr",
     "output_type": "stream",
     "text": [
      "Training: 100%|██████████| 157/157 [00:40<00:00,  3.87it/s]\n",
      "Validation: 100%|██████████| 18/18 [00:04<00:00,  4.24it/s]\n"
     ]
    },
    {
     "name": "stdout",
     "output_type": "stream",
     "text": [
      "\n",
      "Epoch: 32 | Train Loss: 0.4799 | Val Loss: 0.4099 | Val F1: 0.9056\n",
      "EarlyStopping counter: 2 out of 15\n"
     ]
    },
    {
     "name": "stderr",
     "output_type": "stream",
     "text": [
      "Training: 100%|██████████| 157/157 [00:40<00:00,  3.86it/s]\n",
      "Validation: 100%|██████████| 18/18 [00:04<00:00,  4.24it/s]\n"
     ]
    },
    {
     "name": "stdout",
     "output_type": "stream",
     "text": [
      "\n",
      "Epoch: 33 | Train Loss: 0.4569 | Val Loss: 0.4095 | Val F1: 0.9149\n",
      "EarlyStopping counter: 3 out of 15\n"
     ]
    },
    {
     "name": "stderr",
     "output_type": "stream",
     "text": [
      "Training: 100%|██████████| 157/157 [00:40<00:00,  3.85it/s]\n",
      "Validation: 100%|██████████| 18/18 [00:04<00:00,  4.26it/s]\n"
     ]
    },
    {
     "name": "stdout",
     "output_type": "stream",
     "text": [
      "\n",
      "Epoch: 34 | Train Loss: 0.4473 | Val Loss: 0.4118 | Val F1: 0.9143\n",
      "EarlyStopping counter: 4 out of 15\n"
     ]
    },
    {
     "name": "stderr",
     "output_type": "stream",
     "text": [
      "Training: 100%|██████████| 157/157 [00:40<00:00,  3.85it/s]\n",
      "Validation: 100%|██████████| 18/18 [00:04<00:00,  4.22it/s]\n"
     ]
    },
    {
     "name": "stdout",
     "output_type": "stream",
     "text": [
      "\n",
      "Epoch: 35 | Train Loss: 0.4554 | Val Loss: 0.3691 | Val F1: 0.9122\n",
      "Validation loss decreased (0.389230 --> 0.369063). Saving model...\n"
     ]
    },
    {
     "name": "stderr",
     "output_type": "stream",
     "text": [
      "Training: 100%|██████████| 157/157 [00:40<00:00,  3.86it/s]\n",
      "Validation: 100%|██████████| 18/18 [00:04<00:00,  4.24it/s]\n"
     ]
    },
    {
     "name": "stdout",
     "output_type": "stream",
     "text": [
      "\n",
      "Epoch: 36 | Train Loss: 0.4434 | Val Loss: 0.4083 | Val F1: 0.9187\n",
      "EarlyStopping counter: 1 out of 15\n"
     ]
    },
    {
     "name": "stderr",
     "output_type": "stream",
     "text": [
      "Training: 100%|██████████| 157/157 [00:40<00:00,  3.88it/s]\n",
      "Validation: 100%|██████████| 18/18 [00:04<00:00,  4.20it/s]\n"
     ]
    },
    {
     "name": "stdout",
     "output_type": "stream",
     "text": [
      "\n",
      "Epoch: 37 | Train Loss: 0.4576 | Val Loss: 0.3740 | Val F1: 0.9215\n",
      "EarlyStopping counter: 2 out of 15\n"
     ]
    },
    {
     "name": "stderr",
     "output_type": "stream",
     "text": [
      "Training: 100%|██████████| 157/157 [00:41<00:00,  3.82it/s]\n",
      "Validation: 100%|██████████| 18/18 [00:04<00:00,  4.09it/s]\n"
     ]
    },
    {
     "name": "stdout",
     "output_type": "stream",
     "text": [
      "\n",
      "Epoch: 38 | Train Loss: 0.4525 | Val Loss: 0.3941 | Val F1: 0.9105\n",
      "EarlyStopping counter: 3 out of 15\n"
     ]
    },
    {
     "name": "stderr",
     "output_type": "stream",
     "text": [
      "Training: 100%|██████████| 157/157 [00:40<00:00,  3.83it/s]\n",
      "Validation: 100%|██████████| 18/18 [00:04<00:00,  4.18it/s]\n"
     ]
    },
    {
     "name": "stdout",
     "output_type": "stream",
     "text": [
      "\n",
      "Epoch: 39 | Train Loss: 0.4360 | Val Loss: 0.3932 | Val F1: 0.9147\n",
      "EarlyStopping counter: 4 out of 15\n"
     ]
    },
    {
     "name": "stderr",
     "output_type": "stream",
     "text": [
      "Training: 100%|██████████| 157/157 [00:41<00:00,  3.76it/s]\n",
      "Validation: 100%|██████████| 18/18 [00:04<00:00,  4.11it/s]\n"
     ]
    },
    {
     "name": "stdout",
     "output_type": "stream",
     "text": [
      "\n",
      "Epoch: 40 | Train Loss: 0.4402 | Val Loss: 0.3770 | Val F1: 0.9149\n",
      "EarlyStopping counter: 5 out of 15\n"
     ]
    },
    {
     "name": "stderr",
     "output_type": "stream",
     "text": [
      "Training: 100%|██████████| 157/157 [00:41<00:00,  3.80it/s]\n",
      "Validation: 100%|██████████| 18/18 [00:04<00:00,  4.07it/s]\n"
     ]
    },
    {
     "name": "stdout",
     "output_type": "stream",
     "text": [
      "\n",
      "Epoch: 41 | Train Loss: 0.4267 | Val Loss: 0.3582 | Val F1: 0.9245\n",
      "Validation loss decreased (0.369063 --> 0.358228). Saving model...\n"
     ]
    },
    {
     "name": "stderr",
     "output_type": "stream",
     "text": [
      "Training: 100%|██████████| 157/157 [00:42<00:00,  3.73it/s]\n",
      "Validation: 100%|██████████| 18/18 [00:04<00:00,  4.04it/s]\n"
     ]
    },
    {
     "name": "stdout",
     "output_type": "stream",
     "text": [
      "\n",
      "Epoch: 42 | Train Loss: 0.4307 | Val Loss: 0.3723 | Val F1: 0.9166\n",
      "EarlyStopping counter: 1 out of 15\n"
     ]
    },
    {
     "name": "stderr",
     "output_type": "stream",
     "text": [
      "Training: 100%|██████████| 157/157 [00:42<00:00,  3.72it/s]\n",
      "Validation: 100%|██████████| 18/18 [00:04<00:00,  4.02it/s]\n"
     ]
    },
    {
     "name": "stdout",
     "output_type": "stream",
     "text": [
      "\n",
      "Epoch: 43 | Train Loss: 0.4420 | Val Loss: 0.3732 | Val F1: 0.9211\n",
      "EarlyStopping counter: 2 out of 15\n"
     ]
    },
    {
     "name": "stderr",
     "output_type": "stream",
     "text": [
      "Training: 100%|██████████| 157/157 [00:42<00:00,  3.69it/s]\n",
      "Validation: 100%|██████████| 18/18 [00:04<00:00,  4.08it/s]\n"
     ]
    },
    {
     "name": "stdout",
     "output_type": "stream",
     "text": [
      "\n",
      "Epoch: 44 | Train Loss: 0.4209 | Val Loss: 0.3389 | Val F1: 0.9161\n",
      "Validation loss decreased (0.358228 --> 0.338892). Saving model...\n"
     ]
    },
    {
     "name": "stderr",
     "output_type": "stream",
     "text": [
      "Training: 100%|██████████| 157/157 [00:42<00:00,  3.69it/s]\n",
      "Validation: 100%|██████████| 18/18 [00:04<00:00,  4.09it/s]\n"
     ]
    },
    {
     "name": "stdout",
     "output_type": "stream",
     "text": [
      "\n",
      "Epoch: 45 | Train Loss: 0.4248 | Val Loss: 0.3534 | Val F1: 0.9350\n",
      "EarlyStopping counter: 1 out of 15\n"
     ]
    },
    {
     "name": "stderr",
     "output_type": "stream",
     "text": [
      "Training: 100%|██████████| 157/157 [00:42<00:00,  3.71it/s]\n",
      "Validation: 100%|██████████| 18/18 [00:04<00:00,  4.05it/s]\n"
     ]
    },
    {
     "name": "stdout",
     "output_type": "stream",
     "text": [
      "\n",
      "Epoch: 46 | Train Loss: 0.4182 | Val Loss: 0.3598 | Val F1: 0.9329\n",
      "EarlyStopping counter: 2 out of 15\n"
     ]
    },
    {
     "name": "stderr",
     "output_type": "stream",
     "text": [
      "Training: 100%|██████████| 157/157 [00:42<00:00,  3.67it/s]\n",
      "Validation: 100%|██████████| 18/18 [00:04<00:00,  4.05it/s]\n"
     ]
    },
    {
     "name": "stdout",
     "output_type": "stream",
     "text": [
      "\n",
      "Epoch: 47 | Train Loss: 0.4117 | Val Loss: 0.3476 | Val F1: 0.9340\n",
      "EarlyStopping counter: 3 out of 15\n"
     ]
    },
    {
     "name": "stderr",
     "output_type": "stream",
     "text": [
      "Training: 100%|██████████| 157/157 [00:42<00:00,  3.71it/s]\n",
      "Validation: 100%|██████████| 18/18 [00:04<00:00,  4.01it/s]\n"
     ]
    },
    {
     "name": "stdout",
     "output_type": "stream",
     "text": [
      "\n",
      "Epoch: 48 | Train Loss: 0.4362 | Val Loss: 0.3251 | Val F1: 0.9287\n",
      "Validation loss decreased (0.338892 --> 0.325122). Saving model...\n"
     ]
    },
    {
     "name": "stderr",
     "output_type": "stream",
     "text": [
      "Training: 100%|██████████| 157/157 [00:42<00:00,  3.70it/s]\n",
      "Validation: 100%|██████████| 18/18 [00:04<00:00,  4.06it/s]\n"
     ]
    },
    {
     "name": "stdout",
     "output_type": "stream",
     "text": [
      "\n",
      "Epoch: 49 | Train Loss: 0.4067 | Val Loss: 0.3380 | Val F1: 0.9261\n",
      "EarlyStopping counter: 1 out of 15\n"
     ]
    },
    {
     "name": "stderr",
     "output_type": "stream",
     "text": [
      "Training: 100%|██████████| 157/157 [00:42<00:00,  3.69it/s]\n",
      "Validation: 100%|██████████| 18/18 [00:04<00:00,  4.04it/s]\n"
     ]
    },
    {
     "name": "stdout",
     "output_type": "stream",
     "text": [
      "\n",
      "Epoch: 50 | Train Loss: 0.4109 | Val Loss: 0.3672 | Val F1: 0.9295\n",
      "EarlyStopping counter: 2 out of 15\n"
     ]
    },
    {
     "name": "stderr",
     "output_type": "stream",
     "text": [
      "Training: 100%|██████████| 157/157 [00:42<00:00,  3.71it/s]\n",
      "Validation: 100%|██████████| 18/18 [00:04<00:00,  4.06it/s]\n"
     ]
    },
    {
     "name": "stdout",
     "output_type": "stream",
     "text": [
      "\n",
      "Epoch: 51 | Train Loss: 0.4128 | Val Loss: 0.3598 | Val F1: 0.9295\n",
      "EarlyStopping counter: 3 out of 15\n"
     ]
    },
    {
     "name": "stderr",
     "output_type": "stream",
     "text": [
      "Training: 100%|██████████| 157/157 [00:42<00:00,  3.68it/s]\n",
      "Validation: 100%|██████████| 18/18 [00:04<00:00,  4.01it/s]\n"
     ]
    },
    {
     "name": "stdout",
     "output_type": "stream",
     "text": [
      "\n",
      "Epoch: 52 | Train Loss: 0.4089 | Val Loss: 0.3312 | Val F1: 0.9194\n",
      "EarlyStopping counter: 4 out of 15\n"
     ]
    },
    {
     "name": "stderr",
     "output_type": "stream",
     "text": [
      "Training: 100%|██████████| 157/157 [00:42<00:00,  3.71it/s]\n",
      "Validation: 100%|██████████| 18/18 [00:04<00:00,  4.00it/s]\n"
     ]
    },
    {
     "name": "stdout",
     "output_type": "stream",
     "text": [
      "\n",
      "Epoch: 53 | Train Loss: 0.3992 | Val Loss: 0.3563 | Val F1: 0.9347\n",
      "EarlyStopping counter: 5 out of 15\n"
     ]
    },
    {
     "name": "stderr",
     "output_type": "stream",
     "text": [
      "Training: 100%|██████████| 157/157 [00:42<00:00,  3.72it/s]\n",
      "Validation: 100%|██████████| 18/18 [00:04<00:00,  4.11it/s]\n"
     ]
    },
    {
     "name": "stdout",
     "output_type": "stream",
     "text": [
      "\n",
      "Epoch: 54 | Train Loss: 0.4026 | Val Loss: 0.3212 | Val F1: 0.9319\n",
      "Validation loss decreased (0.325122 --> 0.321197). Saving model...\n"
     ]
    },
    {
     "name": "stderr",
     "output_type": "stream",
     "text": [
      "Training: 100%|██████████| 157/157 [00:42<00:00,  3.74it/s]\n",
      "Validation: 100%|██████████| 18/18 [00:04<00:00,  4.10it/s]\n"
     ]
    },
    {
     "name": "stdout",
     "output_type": "stream",
     "text": [
      "\n",
      "Epoch: 55 | Train Loss: 0.4142 | Val Loss: 0.3528 | Val F1: 0.9460\n",
      "EarlyStopping counter: 1 out of 15\n"
     ]
    },
    {
     "name": "stderr",
     "output_type": "stream",
     "text": [
      "Training: 100%|██████████| 157/157 [00:41<00:00,  3.74it/s]\n",
      "Validation: 100%|██████████| 18/18 [00:04<00:00,  4.13it/s]\n"
     ]
    },
    {
     "name": "stdout",
     "output_type": "stream",
     "text": [
      "\n",
      "Epoch: 56 | Train Loss: 0.3896 | Val Loss: 0.3367 | Val F1: 0.9326\n",
      "EarlyStopping counter: 2 out of 15\n"
     ]
    },
    {
     "name": "stderr",
     "output_type": "stream",
     "text": [
      "Training: 100%|██████████| 157/157 [00:42<00:00,  3.73it/s]\n",
      "Validation: 100%|██████████| 18/18 [00:04<00:00,  3.97it/s]\n"
     ]
    },
    {
     "name": "stdout",
     "output_type": "stream",
     "text": [
      "\n",
      "Epoch: 57 | Train Loss: 0.4061 | Val Loss: 0.3261 | Val F1: 0.9245\n",
      "EarlyStopping counter: 3 out of 15\n"
     ]
    },
    {
     "name": "stderr",
     "output_type": "stream",
     "text": [
      "Training: 100%|██████████| 157/157 [00:40<00:00,  3.83it/s]\n",
      "Validation: 100%|██████████| 18/18 [00:04<00:00,  4.15it/s]\n"
     ]
    },
    {
     "name": "stdout",
     "output_type": "stream",
     "text": [
      "\n",
      "Epoch: 58 | Train Loss: 0.4031 | Val Loss: 0.3086 | Val F1: 0.9355\n",
      "Validation loss decreased (0.321197 --> 0.308604). Saving model...\n"
     ]
    },
    {
     "name": "stderr",
     "output_type": "stream",
     "text": [
      "Training: 100%|██████████| 157/157 [00:40<00:00,  3.86it/s]\n",
      "Validation: 100%|██████████| 18/18 [00:04<00:00,  4.25it/s]\n"
     ]
    },
    {
     "name": "stdout",
     "output_type": "stream",
     "text": [
      "\n",
      "Epoch: 59 | Train Loss: 0.3839 | Val Loss: 0.2983 | Val F1: 0.9439\n",
      "Validation loss decreased (0.308604 --> 0.298304). Saving model...\n"
     ]
    },
    {
     "name": "stderr",
     "output_type": "stream",
     "text": [
      "Training: 100%|██████████| 157/157 [00:40<00:00,  3.86it/s]\n",
      "Validation: 100%|██████████| 18/18 [00:04<00:00,  4.18it/s]\n"
     ]
    },
    {
     "name": "stdout",
     "output_type": "stream",
     "text": [
      "\n",
      "Epoch: 60 | Train Loss: 0.4102 | Val Loss: 0.3219 | Val F1: 0.9350\n",
      "EarlyStopping counter: 1 out of 15\n"
     ]
    },
    {
     "name": "stderr",
     "output_type": "stream",
     "text": [
      "Training: 100%|██████████| 157/157 [00:40<00:00,  3.85it/s]\n",
      "Validation: 100%|██████████| 18/18 [00:04<00:00,  4.21it/s]\n"
     ]
    },
    {
     "name": "stdout",
     "output_type": "stream",
     "text": [
      "\n",
      "Epoch: 61 | Train Loss: 0.3919 | Val Loss: 0.3215 | Val F1: 0.9383\n",
      "EarlyStopping counter: 2 out of 15\n"
     ]
    },
    {
     "name": "stderr",
     "output_type": "stream",
     "text": [
      "Training: 100%|██████████| 157/157 [00:40<00:00,  3.84it/s]\n",
      "Validation: 100%|██████████| 18/18 [00:04<00:00,  4.19it/s]\n"
     ]
    },
    {
     "name": "stdout",
     "output_type": "stream",
     "text": [
      "\n",
      "Epoch: 62 | Train Loss: 0.3924 | Val Loss: 0.3230 | Val F1: 0.9319\n",
      "EarlyStopping counter: 3 out of 15\n"
     ]
    },
    {
     "name": "stderr",
     "output_type": "stream",
     "text": [
      "Training: 100%|██████████| 157/157 [00:40<00:00,  3.85it/s]\n",
      "Validation: 100%|██████████| 18/18 [00:04<00:00,  4.15it/s]\n"
     ]
    },
    {
     "name": "stdout",
     "output_type": "stream",
     "text": [
      "\n",
      "Epoch: 63 | Train Loss: 0.3703 | Val Loss: 0.3067 | Val F1: 0.9254\n",
      "EarlyStopping counter: 4 out of 15\n"
     ]
    },
    {
     "name": "stderr",
     "output_type": "stream",
     "text": [
      "Training: 100%|██████████| 157/157 [00:42<00:00,  3.74it/s]\n",
      "Validation: 100%|██████████| 18/18 [00:04<00:00,  4.08it/s]\n"
     ]
    },
    {
     "name": "stdout",
     "output_type": "stream",
     "text": [
      "\n",
      "Epoch: 64 | Train Loss: 0.3923 | Val Loss: 0.3211 | Val F1: 0.9324\n",
      "EarlyStopping counter: 5 out of 15\n"
     ]
    },
    {
     "name": "stderr",
     "output_type": "stream",
     "text": [
      "Training: 100%|██████████| 157/157 [00:41<00:00,  3.81it/s]\n",
      "Validation: 100%|██████████| 18/18 [00:04<00:00,  4.25it/s]\n"
     ]
    },
    {
     "name": "stdout",
     "output_type": "stream",
     "text": [
      "\n",
      "Epoch: 65 | Train Loss: 0.3675 | Val Loss: 0.3311 | Val F1: 0.9340\n",
      "EarlyStopping counter: 6 out of 15\n"
     ]
    },
    {
     "name": "stderr",
     "output_type": "stream",
     "text": [
      "Training: 100%|██████████| 157/157 [00:40<00:00,  3.85it/s]\n",
      "Validation: 100%|██████████| 18/18 [00:04<00:00,  4.19it/s]\n"
     ]
    },
    {
     "name": "stdout",
     "output_type": "stream",
     "text": [
      "\n",
      "Epoch: 66 | Train Loss: 0.3844 | Val Loss: 0.3125 | Val F1: 0.9397\n",
      "EarlyStopping counter: 7 out of 15\n"
     ]
    },
    {
     "name": "stderr",
     "output_type": "stream",
     "text": [
      "Training: 100%|██████████| 157/157 [00:40<00:00,  3.84it/s]\n",
      "Validation: 100%|██████████| 18/18 [00:04<00:00,  4.18it/s]\n"
     ]
    },
    {
     "name": "stdout",
     "output_type": "stream",
     "text": [
      "\n",
      "Epoch: 67 | Train Loss: 0.3802 | Val Loss: 0.2934 | Val F1: 0.9363\n",
      "Validation loss decreased (0.298304 --> 0.293432). Saving model...\n"
     ]
    },
    {
     "name": "stderr",
     "output_type": "stream",
     "text": [
      "Training: 100%|██████████| 157/157 [00:40<00:00,  3.86it/s]\n",
      "Validation: 100%|██████████| 18/18 [00:04<00:00,  4.17it/s]\n"
     ]
    },
    {
     "name": "stdout",
     "output_type": "stream",
     "text": [
      "\n",
      "Epoch: 68 | Train Loss: 0.3980 | Val Loss: 0.3149 | Val F1: 0.9343\n",
      "EarlyStopping counter: 1 out of 15\n"
     ]
    },
    {
     "name": "stderr",
     "output_type": "stream",
     "text": [
      "Training: 100%|██████████| 157/157 [00:40<00:00,  3.85it/s]\n",
      "Validation: 100%|██████████| 18/18 [00:04<00:00,  4.20it/s]\n"
     ]
    },
    {
     "name": "stdout",
     "output_type": "stream",
     "text": [
      "\n",
      "Epoch: 69 | Train Loss: 0.3755 | Val Loss: 0.2991 | Val F1: 0.9330\n",
      "EarlyStopping counter: 2 out of 15\n"
     ]
    },
    {
     "name": "stderr",
     "output_type": "stream",
     "text": [
      "Training: 100%|██████████| 157/157 [00:41<00:00,  3.81it/s]\n",
      "Validation: 100%|██████████| 18/18 [00:04<00:00,  4.09it/s]\n"
     ]
    },
    {
     "name": "stdout",
     "output_type": "stream",
     "text": [
      "\n",
      "Epoch: 70 | Train Loss: 0.3535 | Val Loss: 0.3115 | Val F1: 0.9428\n",
      "EarlyStopping counter: 3 out of 15\n"
     ]
    },
    {
     "name": "stderr",
     "output_type": "stream",
     "text": [
      "Training: 100%|██████████| 157/157 [00:42<00:00,  3.73it/s]\n",
      "Validation: 100%|██████████| 18/18 [00:04<00:00,  4.02it/s]\n"
     ]
    },
    {
     "name": "stdout",
     "output_type": "stream",
     "text": [
      "\n",
      "Epoch: 71 | Train Loss: 0.3620 | Val Loss: 0.3056 | Val F1: 0.9375\n",
      "EarlyStopping counter: 4 out of 15\n"
     ]
    },
    {
     "name": "stderr",
     "output_type": "stream",
     "text": [
      "Training: 100%|██████████| 157/157 [00:42<00:00,  3.72it/s]\n",
      "Validation: 100%|██████████| 18/18 [00:04<00:00,  4.14it/s]\n"
     ]
    },
    {
     "name": "stdout",
     "output_type": "stream",
     "text": [
      "\n",
      "Epoch: 72 | Train Loss: 0.3577 | Val Loss: 0.3134 | Val F1: 0.9349\n",
      "EarlyStopping counter: 5 out of 15\n"
     ]
    },
    {
     "name": "stderr",
     "output_type": "stream",
     "text": [
      "Training: 100%|██████████| 157/157 [00:42<00:00,  3.73it/s]\n",
      "Validation: 100%|██████████| 18/18 [00:04<00:00,  4.13it/s]\n"
     ]
    },
    {
     "name": "stdout",
     "output_type": "stream",
     "text": [
      "\n",
      "Epoch: 73 | Train Loss: 0.3795 | Val Loss: 0.3298 | Val F1: 0.9341\n",
      "EarlyStopping counter: 6 out of 15\n"
     ]
    },
    {
     "name": "stderr",
     "output_type": "stream",
     "text": [
      "Training: 100%|██████████| 157/157 [00:42<00:00,  3.74it/s]\n",
      "Validation: 100%|██████████| 18/18 [00:04<00:00,  4.11it/s]\n"
     ]
    },
    {
     "name": "stdout",
     "output_type": "stream",
     "text": [
      "\n",
      "Epoch: 74 | Train Loss: 0.3778 | Val Loss: 0.3143 | Val F1: 0.9296\n",
      "EarlyStopping counter: 7 out of 15\n"
     ]
    },
    {
     "name": "stderr",
     "output_type": "stream",
     "text": [
      "Training: 100%|██████████| 157/157 [00:42<00:00,  3.74it/s]\n",
      "Validation: 100%|██████████| 18/18 [00:04<00:00,  4.08it/s]\n"
     ]
    },
    {
     "name": "stdout",
     "output_type": "stream",
     "text": [
      "\n",
      "Epoch: 75 | Train Loss: 0.3792 | Val Loss: 0.2988 | Val F1: 0.9375\n",
      "EarlyStopping counter: 8 out of 15\n"
     ]
    },
    {
     "name": "stderr",
     "output_type": "stream",
     "text": [
      "Training: 100%|██████████| 157/157 [00:42<00:00,  3.72it/s]\n",
      "Validation: 100%|██████████| 18/18 [00:04<00:00,  4.04it/s]\n"
     ]
    },
    {
     "name": "stdout",
     "output_type": "stream",
     "text": [
      "\n",
      "Epoch: 76 | Train Loss: 0.3746 | Val Loss: 0.3268 | Val F1: 0.9254\n",
      "EarlyStopping counter: 9 out of 15\n"
     ]
    },
    {
     "name": "stderr",
     "output_type": "stream",
     "text": [
      "Training: 100%|██████████| 157/157 [00:42<00:00,  3.73it/s]\n",
      "Validation: 100%|██████████| 18/18 [00:04<00:00,  4.07it/s]\n"
     ]
    },
    {
     "name": "stdout",
     "output_type": "stream",
     "text": [
      "\n",
      "Epoch: 77 | Train Loss: 0.3711 | Val Loss: 0.3203 | Val F1: 0.9340\n",
      "EarlyStopping counter: 10 out of 15\n"
     ]
    },
    {
     "name": "stderr",
     "output_type": "stream",
     "text": [
      "Training: 100%|██████████| 157/157 [00:42<00:00,  3.72it/s]\n",
      "Validation: 100%|██████████| 18/18 [00:04<00:00,  4.09it/s]\n"
     ]
    },
    {
     "name": "stdout",
     "output_type": "stream",
     "text": [
      "\n",
      "Epoch: 78 | Train Loss: 0.3603 | Val Loss: 0.2853 | Val F1: 0.9431\n",
      "Validation loss decreased (0.293432 --> 0.285307). Saving model...\n"
     ]
    },
    {
     "name": "stderr",
     "output_type": "stream",
     "text": [
      "Training: 100%|██████████| 157/157 [00:42<00:00,  3.71it/s]\n",
      "Validation: 100%|██████████| 18/18 [00:04<00:00,  4.10it/s]\n"
     ]
    },
    {
     "name": "stdout",
     "output_type": "stream",
     "text": [
      "\n",
      "Epoch: 79 | Train Loss: 0.3621 | Val Loss: 0.3006 | Val F1: 0.9340\n",
      "EarlyStopping counter: 1 out of 15\n"
     ]
    },
    {
     "name": "stderr",
     "output_type": "stream",
     "text": [
      "Training: 100%|██████████| 157/157 [00:42<00:00,  3.73it/s]\n",
      "Validation: 100%|██████████| 18/18 [00:04<00:00,  4.05it/s]\n"
     ]
    },
    {
     "name": "stdout",
     "output_type": "stream",
     "text": [
      "\n",
      "Epoch: 80 | Train Loss: 0.3767 | Val Loss: 0.2946 | Val F1: 0.9408\n",
      "EarlyStopping counter: 2 out of 15\n"
     ]
    },
    {
     "name": "stderr",
     "output_type": "stream",
     "text": [
      "Training: 100%|██████████| 157/157 [00:42<00:00,  3.74it/s]\n",
      "Validation: 100%|██████████| 18/18 [00:04<00:00,  4.12it/s]\n"
     ]
    },
    {
     "name": "stdout",
     "output_type": "stream",
     "text": [
      "\n",
      "Epoch: 81 | Train Loss: 0.3662 | Val Loss: 0.2983 | Val F1: 0.9366\n",
      "EarlyStopping counter: 3 out of 15\n"
     ]
    },
    {
     "name": "stderr",
     "output_type": "stream",
     "text": [
      "Training: 100%|██████████| 157/157 [00:41<00:00,  3.74it/s]\n",
      "Validation: 100%|██████████| 18/18 [00:04<00:00,  4.11it/s]\n"
     ]
    },
    {
     "name": "stdout",
     "output_type": "stream",
     "text": [
      "\n",
      "Epoch: 82 | Train Loss: 0.3935 | Val Loss: 0.2916 | Val F1: 0.9310\n",
      "EarlyStopping counter: 4 out of 15\n"
     ]
    },
    {
     "name": "stderr",
     "output_type": "stream",
     "text": [
      "Training: 100%|██████████| 157/157 [00:42<00:00,  3.73it/s]\n",
      "Validation: 100%|██████████| 18/18 [00:04<00:00,  4.09it/s]\n"
     ]
    },
    {
     "name": "stdout",
     "output_type": "stream",
     "text": [
      "\n",
      "Epoch: 83 | Train Loss: 0.3804 | Val Loss: 0.2797 | Val F1: 0.9387\n",
      "Validation loss decreased (0.285307 --> 0.279668). Saving model...\n"
     ]
    },
    {
     "name": "stderr",
     "output_type": "stream",
     "text": [
      "Training: 100%|██████████| 157/157 [00:41<00:00,  3.79it/s]\n",
      "Validation: 100%|██████████| 18/18 [00:04<00:00,  4.21it/s]\n"
     ]
    },
    {
     "name": "stdout",
     "output_type": "stream",
     "text": [
      "\n",
      "Epoch: 84 | Train Loss: 0.3766 | Val Loss: 0.2976 | Val F1: 0.9376\n",
      "EarlyStopping counter: 1 out of 15\n"
     ]
    },
    {
     "name": "stderr",
     "output_type": "stream",
     "text": [
      "Training: 100%|██████████| 157/157 [00:40<00:00,  3.83it/s]\n",
      "Validation: 100%|██████████| 18/18 [00:04<00:00,  4.15it/s]\n"
     ]
    },
    {
     "name": "stdout",
     "output_type": "stream",
     "text": [
      "\n",
      "Epoch: 85 | Train Loss: 0.3673 | Val Loss: 0.3261 | Val F1: 0.9307\n",
      "EarlyStopping counter: 2 out of 15\n"
     ]
    },
    {
     "name": "stderr",
     "output_type": "stream",
     "text": [
      "Training: 100%|██████████| 157/157 [00:40<00:00,  3.85it/s]\n",
      "Validation: 100%|██████████| 18/18 [00:04<00:00,  4.23it/s]\n"
     ]
    },
    {
     "name": "stdout",
     "output_type": "stream",
     "text": [
      "\n",
      "Epoch: 86 | Train Loss: 0.3699 | Val Loss: 0.2988 | Val F1: 0.9338\n",
      "EarlyStopping counter: 3 out of 15\n"
     ]
    },
    {
     "name": "stderr",
     "output_type": "stream",
     "text": [
      "Training: 100%|██████████| 157/157 [00:40<00:00,  3.84it/s]\n",
      "Validation: 100%|██████████| 18/18 [00:04<00:00,  4.19it/s]\n"
     ]
    },
    {
     "name": "stdout",
     "output_type": "stream",
     "text": [
      "\n",
      "Epoch: 87 | Train Loss: 0.3754 | Val Loss: 0.2987 | Val F1: 0.9431\n",
      "EarlyStopping counter: 4 out of 15\n"
     ]
    },
    {
     "name": "stderr",
     "output_type": "stream",
     "text": [
      "Training: 100%|██████████| 157/157 [00:40<00:00,  3.84it/s]\n",
      "Validation: 100%|██████████| 18/18 [00:04<00:00,  4.23it/s]\n"
     ]
    },
    {
     "name": "stdout",
     "output_type": "stream",
     "text": [
      "\n",
      "Epoch: 88 | Train Loss: 0.3567 | Val Loss: 0.2913 | Val F1: 0.9371\n",
      "EarlyStopping counter: 5 out of 15\n"
     ]
    },
    {
     "name": "stderr",
     "output_type": "stream",
     "text": [
      "Training: 100%|██████████| 157/157 [00:41<00:00,  3.81it/s]\n",
      "Validation: 100%|██████████| 18/18 [00:04<00:00,  4.14it/s]\n"
     ]
    },
    {
     "name": "stdout",
     "output_type": "stream",
     "text": [
      "\n",
      "Epoch: 89 | Train Loss: 0.3626 | Val Loss: 0.3140 | Val F1: 0.9291\n",
      "EarlyStopping counter: 6 out of 15\n"
     ]
    },
    {
     "name": "stderr",
     "output_type": "stream",
     "text": [
      "Training: 100%|██████████| 157/157 [00:41<00:00,  3.74it/s]\n",
      "Validation: 100%|██████████| 18/18 [00:04<00:00,  4.11it/s]\n"
     ]
    },
    {
     "name": "stdout",
     "output_type": "stream",
     "text": [
      "\n",
      "Epoch: 90 | Train Loss: 0.3698 | Val Loss: 0.3068 | Val F1: 0.9319\n",
      "EarlyStopping counter: 7 out of 15\n"
     ]
    },
    {
     "name": "stderr",
     "output_type": "stream",
     "text": [
      "Training: 100%|██████████| 157/157 [00:40<00:00,  3.85it/s]\n",
      "Validation: 100%|██████████| 18/18 [00:04<00:00,  4.27it/s]\n"
     ]
    },
    {
     "name": "stdout",
     "output_type": "stream",
     "text": [
      "\n",
      "Epoch: 91 | Train Loss: 0.3634 | Val Loss: 0.3266 | Val F1: 0.9309\n",
      "EarlyStopping counter: 8 out of 15\n"
     ]
    },
    {
     "name": "stderr",
     "output_type": "stream",
     "text": [
      "Training: 100%|██████████| 157/157 [00:40<00:00,  3.86it/s]\n",
      "Validation: 100%|██████████| 18/18 [00:04<00:00,  4.16it/s]\n"
     ]
    },
    {
     "name": "stdout",
     "output_type": "stream",
     "text": [
      "\n",
      "Epoch: 92 | Train Loss: 0.3888 | Val Loss: 0.2852 | Val F1: 0.9463\n",
      "EarlyStopping counter: 9 out of 15\n"
     ]
    },
    {
     "name": "stderr",
     "output_type": "stream",
     "text": [
      "Training: 100%|██████████| 157/157 [00:40<00:00,  3.85it/s]\n",
      "Validation: 100%|██████████| 18/18 [00:04<00:00,  4.31it/s]\n"
     ]
    },
    {
     "name": "stdout",
     "output_type": "stream",
     "text": [
      "\n",
      "Epoch: 93 | Train Loss: 0.3838 | Val Loss: 0.3102 | Val F1: 0.9341\n",
      "EarlyStopping counter: 10 out of 15\n"
     ]
    },
    {
     "name": "stderr",
     "output_type": "stream",
     "text": [
      "Training: 100%|██████████| 157/157 [00:40<00:00,  3.86it/s]\n",
      "Validation: 100%|██████████| 18/18 [00:04<00:00,  4.18it/s]\n"
     ]
    },
    {
     "name": "stdout",
     "output_type": "stream",
     "text": [
      "\n",
      "Epoch: 94 | Train Loss: 0.3535 | Val Loss: 0.3018 | Val F1: 0.9384\n",
      "EarlyStopping counter: 11 out of 15\n"
     ]
    },
    {
     "name": "stderr",
     "output_type": "stream",
     "text": [
      "Training: 100%|██████████| 157/157 [00:40<00:00,  3.85it/s]\n",
      "Validation: 100%|██████████| 18/18 [00:04<00:00,  4.27it/s]\n"
     ]
    },
    {
     "name": "stdout",
     "output_type": "stream",
     "text": [
      "\n",
      "Epoch: 95 | Train Loss: 0.3954 | Val Loss: 0.3062 | Val F1: 0.9384\n",
      "EarlyStopping counter: 12 out of 15\n"
     ]
    },
    {
     "name": "stderr",
     "output_type": "stream",
     "text": [
      "Training: 100%|██████████| 157/157 [00:40<00:00,  3.86it/s]\n",
      "Validation: 100%|██████████| 18/18 [00:04<00:00,  4.20it/s]\n"
     ]
    },
    {
     "name": "stdout",
     "output_type": "stream",
     "text": [
      "\n",
      "Epoch: 96 | Train Loss: 0.3542 | Val Loss: 0.3159 | Val F1: 0.9298\n",
      "EarlyStopping counter: 13 out of 15\n"
     ]
    },
    {
     "name": "stderr",
     "output_type": "stream",
     "text": [
      "Training: 100%|██████████| 157/157 [00:40<00:00,  3.84it/s]\n",
      "Validation: 100%|██████████| 18/18 [00:04<00:00,  4.18it/s]\n"
     ]
    },
    {
     "name": "stdout",
     "output_type": "stream",
     "text": [
      "\n",
      "Epoch: 97 | Train Loss: 0.3767 | Val Loss: 0.3220 | Val F1: 0.9273\n",
      "EarlyStopping counter: 14 out of 15\n"
     ]
    },
    {
     "name": "stderr",
     "output_type": "stream",
     "text": [
      "Training: 100%|██████████| 157/157 [00:41<00:00,  3.75it/s]\n",
      "Validation: 100%|██████████| 18/18 [00:04<00:00,  4.04it/s]"
     ]
    },
    {
     "name": "stdout",
     "output_type": "stream",
     "text": [
      "\n",
      "Epoch: 98 | Train Loss: 0.3774 | Val Loss: 0.3217 | Val F1: 0.9295\n",
      "EarlyStopping counter: 15 out of 15\n",
      "Early stopping triggered.\n",
      "\n",
      "--- Final Production Model Training Complete ---\n",
      "Production model saved to: ../models/production_model.pth\n",
      "Training history saved to: ..\\results\\production_model_history.pkl\n"
     ]
    },
    {
     "name": "stderr",
     "output_type": "stream",
     "text": [
      "\n"
     ]
    },
    {
     "ename": "",
     "evalue": "",
     "output_type": "error",
     "traceback": [
      "\u001b[1;31mThe Kernel crashed while executing code in the current cell or a previous cell. \n",
      "\u001b[1;31mPlease review the code in the cell(s) to identify a possible cause of the failure. \n",
      "\u001b[1;31mClick <a href='https://aka.ms/vscodeJupyterKernelCrash'>here</a> for more info. \n",
      "\u001b[1;31mView Jupyter <a href='command:jupyter.viewOutput'>log</a> for further details."
     ]
    }
   ],
   "source": [
    "import torch.nn as nn\n",
    "import torch.optim as optim\n",
    "import pandas as pd\n",
    "from pathlib import Path\n",
    "\n",
    "# Final Training\n",
    "DEVICE = \"cuda\" if torch.cuda.is_available() else \"cpu\"\n",
    "CONFIG = {\n",
    "    \"num_epochs\": 100,\n",
    "    \"learning_rate\": 1e-4,\n",
    "    \"dropout_rate\": 0.4,\n",
    "    \"patience\": 15\n",
    "}\n",
    "\n",
    "# Training setup\n",
    "print(f\"--- Training final production model on device: {DEVICE} ---\")\n",
    "\n",
    "model = SpectrogramResNet(num_classes=1, dropout_rate=CONFIG[\"dropout_rate\"]).to(DEVICE)\n",
    "train_labels = [final_train_loader.dataset.dataset.targets[i] for i in final_train_loader.dataset.indices]\n",
    "num_abnormal = sum(1 for label in train_labels if label == correct_class_to_idx['abnormal'])\n",
    "num_normal = len(train_labels) - num_abnormal\n",
    "weight_for_abnormal = num_normal / num_abnormal if num_abnormal > 0 else 1.0\n",
    "\n",
    "print(f\"[FINAL MODEL] Abnormal weight: {weight_for_abnormal:.2f}\")\n",
    "\n",
    "pos_weight_tensor = torch.tensor([weight_for_abnormal], device=DEVICE)\n",
    "loss_fn = nn.BCEWithLogitsLoss(pos_weight=pos_weight_tensor)\n",
    "optimizer = optim.Adam(model.parameters(), lr=CONFIG[\"learning_rate\"])\n",
    "scheduler = ReduceLROnPlateau(optimizer, mode='min', factor=0.1, patience=5, verbose=True)\n",
    "early_stopper = EarlyStopping(patience=CONFIG[\"patience\"], verbose=True, path=MODEL_PATH)\n",
    "history = {'train_loss': [], 'train_f1': [], 'val_loss': [], 'val_f1': [], 'val_recall': []}\n",
    "\n",
    "# Final Training Loop\n",
    "for epoch in range(CONFIG[\"num_epochs\"]):\n",
    "    train_loss, _, _, _, train_f1 = train_step(model, final_train_loader, loss_fn, optimizer, DEVICE)\n",
    "    val_loss, _, _, val_recall, val_f1 = val_step(model, final_val_loader, loss_fn, DEVICE)\n",
    "    print(f\"\\nEpoch: {epoch+1} | Train Loss: {train_loss:.4f} | Val Loss: {val_loss:.4f} | Val F1: {val_f1:.4f}\")\n",
    "    history['train_loss'].append(train_loss)\n",
    "    history['train_f1'].append(train_f1)\n",
    "    history['val_loss'].append(val_loss)\n",
    "    history['val_f1'].append(val_f1)\n",
    "    history['val_recall'].append(val_recall)\n",
    "    scheduler.step(val_loss)\n",
    "    early_stopper(val_loss, model)\n",
    "    if early_stopper.early_stop:\n",
    "        print(\"Early stopping triggered.\")\n",
    "        break\n",
    "\n",
    "\n",
    "# Convert history to a DataFrame\n",
    "history_df = pd.DataFrame(history)\n",
    "\n",
    "# Define a path and save the DataFrame as a pickle file\n",
    "results_dir = Path(\"../results\")\n",
    "results_dir.mkdir(parents=True, exist_ok=True) # Create the directory if it doesn't exist\n",
    "history_save_path = results_dir / \"production_model_history.pkl\"\n",
    "history_df.to_pickle(history_save_path)\n",
    "\n",
    "print(f\"\\n--- Final Production Model Training Complete ---\")\n",
    "print(f\"Production model saved to: {MODEL_PATH}\")\n",
    "print(f\"Training history saved to: {history_save_path}\")"
   ]
  },
  {
   "cell_type": "code",
   "execution_count": 6,
   "id": "0aab1b46",
   "metadata": {},
   "outputs": [
    {
     "name": "stdout",
     "output_type": "stream",
     "text": [
      "Training history loaded successfully.\n"
     ]
    },
    {
     "data": {
      "application/vnd.microsoft.datawrangler.viewer.v0+json": {
       "columns": [
        {
         "name": "index",
         "rawType": "int64",
         "type": "integer"
        },
        {
         "name": "train_loss",
         "rawType": "float64",
         "type": "float"
        },
        {
         "name": "train_f1",
         "rawType": "float64",
         "type": "float"
        },
        {
         "name": "val_loss",
         "rawType": "float64",
         "type": "float"
        },
        {
         "name": "val_f1",
         "rawType": "float64",
         "type": "float"
        },
        {
         "name": "val_recall",
         "rawType": "float64",
         "type": "float"
        }
       ],
       "ref": "6eb6498c-56c9-4a1c-b9ec-dd9da8a07dc2",
       "rows": [
        [
         "0",
         "0.8390123001329458",
         "0.8463138433094523",
         "0.8924794329537286",
         "0.8461538461538461",
         "1.0"
        ],
        [
         "1",
         "0.772785812806172",
         "0.8468198083804687",
         "0.7647603584660424",
         "0.8461538461538461",
         "1.0"
        ],
        [
         "2",
         "0.7202268153618855",
         "0.846917570999769",
         "0.6939739717377557",
         "0.8461538461538461",
         "1.0"
        ],
        [
         "3",
         "0.6953622180565148",
         "0.8480778138026864",
         "0.6658043795161777",
         "0.8461538461538461",
         "1.0"
        ],
        [
         "4",
         "0.6593817789463481",
         "0.8534080298786181",
         "0.6404626535044776",
         "0.8461538461538461",
         "1.0"
        ],
        [
         "5",
         "0.6496151655342928",
         "0.8580819344993544",
         "0.6160867247316573",
         "0.8479166666666667",
         "1.0"
        ],
        [
         "6",
         "0.6182694788191728",
         "0.8645833333333334",
         "0.5934562484423319",
         "0.8496868475991649",
         "1.0"
        ],
        [
         "7",
         "0.610374196319823",
         "0.865937722842881",
         "0.5747033986780379",
         "0.8550420168067226",
         "1.0"
        ],
        [
         "8",
         "0.597108927691818",
         "0.8666428316052914",
         "0.5405899882316589",
         "0.8604651162790697",
         "1.0"
        ],
        [
         "9",
         "0.5893201279412409",
         "0.8697318007662835",
         "0.5346691194507811",
         "0.8675213675213675",
         "0.9975429975429976"
        ],
        [
         "10",
         "0.5791970109863646",
         "0.8726137591547605",
         "0.5192606117990282",
         "0.8665955176093917",
         "0.9975429975429976"
        ],
        [
         "11",
         "0.5769219584525771",
         "0.8771335189444377",
         "0.5258580959505506",
         "0.8778378378378379",
         "0.9975429975429976"
        ],
        [
         "12",
         "0.5672981710570633",
         "0.8754388088609127",
         "0.5182471407784356",
         "0.8797399783315276",
         "0.9975429975429976"
        ],
        [
         "13",
         "0.5759477863076387",
         "0.8831610942249241",
         "0.49786901970704395",
         "0.8806941431670282",
         "0.9975429975429976"
        ],
        [
         "14",
         "0.5587765965492103",
         "0.8805336567616737",
         "0.47813133895397186",
         "0.8833151581243184",
         "0.995085995085995"
        ],
        [
         "15",
         "0.5247154304176379",
         "0.8899521531100478",
         "0.4733348571591907",
         "0.8849945235487404",
         "0.9926289926289926"
        ],
        [
         "16",
         "0.5189374123409296",
         "0.8877425693932695",
         "0.4732293834288915",
         "0.8857453754080522",
         "1.0"
        ],
        [
         "17",
         "0.5415181146495661",
         "0.8868433971526755",
         "0.48606036934587693",
         "0.8930540242557883",
         "0.995085995085995"
        ],
        [
         "18",
         "0.5307670643754826",
         "0.888698210345673",
         "0.48528917961650425",
         "0.8920704845814978",
         "0.995085995085995"
        ],
        [
         "19",
         "0.537866382367292",
         "0.8849687614847482",
         "0.4462442050377528",
         "0.8840262582056893",
         "0.9926289926289926"
        ],
        [
         "20",
         "0.522714802461445",
         "0.8882345724450987",
         "0.4625289473268721",
         "0.9",
         "0.995085995085995"
        ],
        [
         "21",
         "0.525624101708649",
         "0.887821696835365",
         "0.4353480752971437",
         "0.8797399783315276",
         "0.9975429975429976"
        ],
        [
         "22",
         "0.4948355752951021",
         "0.8971499380421314",
         "0.44312068157725865",
         "0.8950276243093923",
         "0.995085995085995"
        ],
        [
         "23",
         "0.4870648418262506",
         "0.8969621822690639",
         "0.40899037652545506",
         "0.9054505005561735",
         "1.0"
        ],
        [
         "24",
         "0.5041988552755611",
         "0.8962861756303565",
         "0.4201454271872838",
         "0.9012208657047724",
         "0.9975429975429976"
        ],
        [
         "25",
         "0.4851782197595402",
         "0.8949454905847374",
         "0.41967572934097713",
         "0.910935738444194",
         "0.9926289926289926"
        ],
        [
         "26",
         "0.48738150906031297",
         "0.9000622277535781",
         "0.4352283891704347",
         "0.8972375690607735",
         "0.9975429975429976"
        ],
        [
         "27",
         "0.4993801651297102",
         "0.8898482792648329",
         "0.48655881981054944",
         "0.9046015712682379",
         "0.9901719901719902"
        ],
        [
         "28",
         "0.4861780119359873",
         "0.8986478104453541",
         "0.4409305834107929",
         "0.9038031319910514",
         "0.9926289926289926"
        ],
        [
         "29",
         "0.47521051736014663",
         "0.9001242236024845",
         "0.38922989037301803",
         "0.9042316258351893",
         "0.9975429975429976"
        ],
        [
         "30",
         "0.47044339415374076",
         "0.9026128266033254",
         "0.4154105418258243",
         "0.888402625820569",
         "0.9975429975429976"
        ],
        [
         "31",
         "0.4799002876896767",
         "0.9008964143426295",
         "0.4099060446023941",
         "0.9056179775280899",
         "0.9901719901719902"
        ],
        [
         "32",
         "0.4569305093235271",
         "0.9020144242725691",
         "0.40954652428627014",
         "0.9148694665153235",
         "0.9901719901719902"
        ],
        [
         "33",
         "0.44730044208514463",
         "0.9040170191465399",
         "0.4117906358506944",
         "0.9142857142857143",
         "0.9828009828009828"
        ],
        [
         "34",
         "0.45536033704781986",
         "0.9028142589118199",
         "0.36906326396597755",
         "0.9121621621621622",
         "0.995085995085995"
        ],
        [
         "35",
         "0.44337110306806626",
         "0.9035",
         "0.4082753558953603",
         "0.9186712485681557",
         "0.9852579852579852"
        ],
        [
         "36",
         "0.457555466681529",
         "0.906312625250501",
         "0.37402407824993134",
         "0.9215017064846417",
         "0.995085995085995"
        ],
        [
         "37",
         "0.4525129146826495",
         "0.9066967644845748",
         "0.3940792853633563",
         "0.9105322763306908",
         "0.9877149877149877"
        ],
        [
         "38",
         "0.43600004123654335",
         "0.9055611222444889",
         "0.39317382209830815",
         "0.9146757679180887",
         "0.9877149877149877"
        ],
        [
         "39",
         "0.4401976682577923",
         "0.9066299034966788",
         "0.37702952656481004",
         "0.9148694665153235",
         "0.9901719901719902"
        ],
        [
         "40",
         "0.42672117908669127",
         "0.910853689247041",
         "0.3582276478409767",
         "0.9244851258581236",
         "0.9926289926289926"
        ],
        [
         "41",
         "0.43067556135593704",
         "0.9106201355761988",
         "0.3722837534215715",
         "0.9165714285714286",
         "0.9852579852579852"
        ],
        [
         "42",
         "0.44202873167718293",
         "0.9042366507896716",
         "0.3731645569205284",
         "0.9211428571428572",
         "0.9901719901719902"
        ],
        [
         "43",
         "0.420892761581263",
         "0.9093420391762933",
         "0.33889233734872604",
         "0.9160997732426304",
         "0.9926289926289926"
        ],
        [
         "44",
         "0.42482892485560886",
         "0.9084975524036651",
         "0.35340767602125805",
         "0.9350348027842227",
         "0.9901719901719902"
        ],
        [
         "45",
         "0.4181894850768861",
         "0.9132801620458286",
         "0.3598201788134045",
         "0.9328703703703703",
         "0.9901719901719902"
        ],
        [
         "46",
         "0.41170733170524526",
         "0.9131751640585563",
         "0.347578055328793",
         "0.9339513325608343",
         "0.9901719901719902"
        ],
        [
         "47",
         "0.436223567196518",
         "0.9078121075106758",
         "0.3251219160026974",
         "0.9287356321839081",
         "0.9926289926289926"
        ],
        [
         "48",
         "0.4066602050498792",
         "0.9161078071618373",
         "0.33798922929498887",
         "0.9260969976905312",
         "0.9852579852579852"
        ],
        [
         "49",
         "0.41089894722221765",
         "0.9151683970625475",
         "0.36715953714317745",
         "0.9294797687861271",
         "0.9877149877149877"
        ]
       ],
       "shape": {
        "columns": 5,
        "rows": 98
       }
      },
      "text/html": [
       "<div>\n",
       "<style scoped>\n",
       "    .dataframe tbody tr th:only-of-type {\n",
       "        vertical-align: middle;\n",
       "    }\n",
       "\n",
       "    .dataframe tbody tr th {\n",
       "        vertical-align: top;\n",
       "    }\n",
       "\n",
       "    .dataframe thead th {\n",
       "        text-align: right;\n",
       "    }\n",
       "</style>\n",
       "<table border=\"1\" class=\"dataframe\">\n",
       "  <thead>\n",
       "    <tr style=\"text-align: right;\">\n",
       "      <th></th>\n",
       "      <th>train_loss</th>\n",
       "      <th>train_f1</th>\n",
       "      <th>val_loss</th>\n",
       "      <th>val_f1</th>\n",
       "      <th>val_recall</th>\n",
       "    </tr>\n",
       "  </thead>\n",
       "  <tbody>\n",
       "    <tr>\n",
       "      <th>0</th>\n",
       "      <td>0.839012</td>\n",
       "      <td>0.846314</td>\n",
       "      <td>0.892479</td>\n",
       "      <td>0.846154</td>\n",
       "      <td>1.000000</td>\n",
       "    </tr>\n",
       "    <tr>\n",
       "      <th>1</th>\n",
       "      <td>0.772786</td>\n",
       "      <td>0.846820</td>\n",
       "      <td>0.764760</td>\n",
       "      <td>0.846154</td>\n",
       "      <td>1.000000</td>\n",
       "    </tr>\n",
       "    <tr>\n",
       "      <th>2</th>\n",
       "      <td>0.720227</td>\n",
       "      <td>0.846918</td>\n",
       "      <td>0.693974</td>\n",
       "      <td>0.846154</td>\n",
       "      <td>1.000000</td>\n",
       "    </tr>\n",
       "    <tr>\n",
       "      <th>3</th>\n",
       "      <td>0.695362</td>\n",
       "      <td>0.848078</td>\n",
       "      <td>0.665804</td>\n",
       "      <td>0.846154</td>\n",
       "      <td>1.000000</td>\n",
       "    </tr>\n",
       "    <tr>\n",
       "      <th>4</th>\n",
       "      <td>0.659382</td>\n",
       "      <td>0.853408</td>\n",
       "      <td>0.640463</td>\n",
       "      <td>0.846154</td>\n",
       "      <td>1.000000</td>\n",
       "    </tr>\n",
       "    <tr>\n",
       "      <th>...</th>\n",
       "      <td>...</td>\n",
       "      <td>...</td>\n",
       "      <td>...</td>\n",
       "      <td>...</td>\n",
       "      <td>...</td>\n",
       "    </tr>\n",
       "    <tr>\n",
       "      <th>93</th>\n",
       "      <td>0.353524</td>\n",
       "      <td>0.927577</td>\n",
       "      <td>0.301819</td>\n",
       "      <td>0.938444</td>\n",
       "      <td>0.992629</td>\n",
       "    </tr>\n",
       "    <tr>\n",
       "      <th>94</th>\n",
       "      <td>0.395401</td>\n",
       "      <td>0.919423</td>\n",
       "      <td>0.306180</td>\n",
       "      <td>0.938444</td>\n",
       "      <td>0.992629</td>\n",
       "    </tr>\n",
       "    <tr>\n",
       "      <th>95</th>\n",
       "      <td>0.354188</td>\n",
       "      <td>0.924514</td>\n",
       "      <td>0.315917</td>\n",
       "      <td>0.929804</td>\n",
       "      <td>0.992629</td>\n",
       "    </tr>\n",
       "    <tr>\n",
       "      <th>96</th>\n",
       "      <td>0.376692</td>\n",
       "      <td>0.921917</td>\n",
       "      <td>0.322037</td>\n",
       "      <td>0.927336</td>\n",
       "      <td>0.987715</td>\n",
       "    </tr>\n",
       "    <tr>\n",
       "      <th>97</th>\n",
       "      <td>0.377407</td>\n",
       "      <td>0.924907</td>\n",
       "      <td>0.321654</td>\n",
       "      <td>0.929480</td>\n",
       "      <td>0.987715</td>\n",
       "    </tr>\n",
       "  </tbody>\n",
       "</table>\n",
       "<p>98 rows × 5 columns</p>\n",
       "</div>"
      ],
      "text/plain": [
       "    train_loss  train_f1  val_loss    val_f1  val_recall\n",
       "0     0.839012  0.846314  0.892479  0.846154    1.000000\n",
       "1     0.772786  0.846820  0.764760  0.846154    1.000000\n",
       "2     0.720227  0.846918  0.693974  0.846154    1.000000\n",
       "3     0.695362  0.848078  0.665804  0.846154    1.000000\n",
       "4     0.659382  0.853408  0.640463  0.846154    1.000000\n",
       "..         ...       ...       ...       ...         ...\n",
       "93    0.353524  0.927577  0.301819  0.938444    0.992629\n",
       "94    0.395401  0.919423  0.306180  0.938444    0.992629\n",
       "95    0.354188  0.924514  0.315917  0.929804    0.992629\n",
       "96    0.376692  0.921917  0.322037  0.927336    0.987715\n",
       "97    0.377407  0.924907  0.321654  0.929480    0.987715\n",
       "\n",
       "[98 rows x 5 columns]"
      ]
     },
     "metadata": {},
     "output_type": "display_data"
    },
    {
     "data": {
      "image/png": "[encoded data removed]",
      "text/plain": [
       "<Figure size 1400x600 with 2 Axes>"
      ]
     },
     "metadata": {},
     "output_type": "display_data"
    }
   ],
   "source": [
    "import pandas as pd\n",
    "import matplotlib.pyplot as plt\n",
    "from pathlib import Path\n",
    "\n",
    "# Load the saved history DataFrame \n",
    "results_dir = Path(\"../results\")\n",
    "history_save_path = results_dir / \"production_model_history.pkl\"\n",
    "history_df = pd.read_pickle(history_save_path)\n",
    "\n",
    "print(\"Training history loaded successfully.\")\n",
    "display(history_df)\n",
    "\n",
    "# Plot the results\n",
    "plt.figure(figsize=(14, 6))\n",
    "\n",
    "# Plotting the loss curves\n",
    "plt.subplot(1, 2, 1)\n",
    "plt.plot(history_df['train_loss'], label='Training Loss')\n",
    "plt.plot(history_df['val_loss'], label='Validation Loss')\n",
    "plt.title('Production Model: Training & Validation Loss')\n",
    "plt.xlabel('Epochs')\n",
    "plt.ylabel('Loss')\n",
    "plt.legend()\n",
    "plt.grid(True)\n",
    "\n",
    "# Plotting the F1 score curves\n",
    "plt.subplot(1, 2, 2)\n",
    "plt.plot(history_df['train_f1'], label='Training F1-Score')\n",
    "plt.plot(history_df['val_f1'], label='Validation F1-Score')\n",
    "plt.title('Production Model: Training & Validation F1-Score')\n",
    "plt.xlabel('Epochs')\n",
    "plt.ylabel('F1-Score')\n",
    "plt.legend()\n",
    "plt.grid(True)\n",
    "\n",
    "plt.tight_layout()\n",
    "plt.show()"
   ]
  },
  {
   "cell_type": "code",
   "execution_count": null,
   "id": "8ac23b48",
   "metadata": {},
   "outputs": [
    {
     "name": "stdout",
     "output_type": "stream",
     "text": [
      "--- Evaluating production model on device: cuda ---\n"
     ]
    },
    {
     "name": "stderr",
     "output_type": "stream",
     "text": [
      "C:\\Users\\ayush\\AppData\\Local\\Temp\\ipykernel_9968\\3581095982.py:18: FutureWarning: You are using `torch.load` with `weights_only=False` (the current default value), which uses the default pickle module implicitly. It is possible to construct malicious pickle data which will execute arbitrary code during unpickling (See https://github.com/pytorch/pytorch/blob/main/SECURITY.md#untrusted-models for more details). In a future release, the default value for `weights_only` will be flipped to `True`. This limits the functions that could be executed during unpickling. Arbitrary objects will no longer be allowed to be loaded via this mode unless they are explicitly allowlisted by the user via `torch.serialization.add_safe_globals`. We recommend you start setting `weights_only=True` for any use case where you don't have full control of the loaded file. Please open an issue on GitHub for any issues related to this experimental feature.\n",
      "  model.load_state_dict(torch.load(MODEL_PATH, map_location=DEVICE))\n"
     ]
    },
    {
     "name": "stdout",
     "output_type": "stream",
     "text": [
      "\n",
      "--- Evaluation Complete ---\n"
     ]
    },
    {
     "data": {
      "image/png": "[encoded data removed]",
      "text/plain": [
       "<Figure size 640x480 with 2 Axes>"
      ]
     },
     "metadata": {},
     "output_type": "display_data"
    },
    {
     "data": {
      "image/png": "[encoded data removed]",
      "text/plain": [
       "<Figure size 800x600 with 1 Axes>"
      ]
     },
     "metadata": {},
     "output_type": "display_data"
    }
   ],
   "source": [
    "import torch\n",
    "from sklearn.metrics import confusion_matrix, ConfusionMatrixDisplay, roc_curve, auc\n",
    "import numpy as np\n",
    "\n",
    "# Setup\n",
    "DEVICE = \"cuda\" if torch.cuda.is_available() else \"cpu\"\n",
    "MODEL_PATH = \"../models/production_model.pth\" # Path to trained production model\n",
    "CLASS_MAP = {'abnormal': 0, 'normal': 1}\n",
    "CLASS_NAMES = list(CLASS_MAP.keys())\n",
    "\n",
    "print(f\"--- Evaluating production model on device: {DEVICE} ---\")\n",
    "\n",
    "# Load the Best Production Model \n",
    "# Create an instance of the model architecture\n",
    "model = SpectrogramResNet(num_classes=1).to(DEVICE)\n",
    "# Load the saved weights into the model instance\n",
    "model.load_state_dict(torch.load(MODEL_PATH, map_location=DEVICE))\n",
    "# Set the model to evaluation mode\n",
    "model.eval()\n",
    "\n",
    "# Get Predictions on the Validation Set\n",
    "all_labels = []\n",
    "all_preds = []\n",
    "all_probs = []\n",
    "\n",
    "# Use the final_val_loader which contains the 10% holdout from all data\n",
    "with torch.no_grad():\n",
    "    for X, y in final_val_loader:\n",
    "        X, y = X.to(DEVICE), y.to(DEVICE)\n",
    "        \n",
    "        y_logits = model(X)\n",
    "        y_probs = torch.sigmoid(y_logits)\n",
    "        y_preds = torch.round(y_probs)\n",
    "        \n",
    "        all_labels.extend(y.cpu().numpy())\n",
    "        all_preds.extend(y_preds.cpu().numpy())\n",
    "        all_probs.extend(y_probs.cpu().numpy())\n",
    "\n",
    "print(\"\\n--- Evaluation Complete ---\")\n",
    "\n",
    "# Plot Confusion Matrix\n",
    "cm = confusion_matrix(all_labels, all_preds)\n",
    "disp = ConfusionMatrixDisplay(confusion_matrix=cm, display_labels=CLASS_NAMES)\n",
    "disp.plot(cmap=plt.cm.Blues)\n",
    "plt.title('Production Model: Confusion Matrix on Validation Set')\n",
    "plt.show()\n",
    "\n",
    "# Plot ROC Curve\n",
    "fpr, tpr, thresholds = roc_curve(all_labels, all_probs)\n",
    "roc_auc = auc(fpr, tpr)\n",
    "\n",
    "plt.figure(figsize=(8, 6))\n",
    "plt.plot(fpr, tpr, color='darkorange', lw=2, label=f'ROC curve (AUC = {roc_auc:.2f})')\n",
    "plt.plot([0, 1], [0, 1], color='navy', lw=2, linestyle='--')\n",
    "plt.xlim([0.0, 1.0])\n",
    "plt.ylim([0.0, 1.05])\n",
    "plt.xlabel('False Positive Rate')\n",
    "plt.ylabel('True Positive Rate')\n",
    "plt.title('Production Model: ROC Curve on Validation Set')\n",
    "plt.legend(loc=\"lower right\")\n",
    "plt.grid(True)\n",
    "plt.show()"
   ]
  }
 ],
 "metadata": {
  "kernelspec": {
   "display_name": "audio-mlops",
   "language": "python",
   "name": "python3"
  },
  "language_info": {
   "codemirror_mode": {
    "name": "ipython",
    "version": 3
   },
   "file_extension": ".py",
   "mimetype": "text/x-python",
   "name": "python",
   "nbconvert_exporter": "python",
   "pygments_lexer": "ipython3",
   "version": "3.9.23"
  }
 },
 "nbformat": 4,
 "nbformat_minor": 5
}
